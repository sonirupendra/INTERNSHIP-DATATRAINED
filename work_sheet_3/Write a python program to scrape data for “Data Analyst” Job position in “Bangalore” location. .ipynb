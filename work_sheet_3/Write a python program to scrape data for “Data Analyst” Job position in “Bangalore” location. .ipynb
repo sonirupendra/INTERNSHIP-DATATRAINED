{
 "cells": [
  {
   "cell_type": "markdown",
   "id": "e2527271",
   "metadata": {},
   "source": [
    "# Write a python program to scrape data for “Data Analyst” Job position in “Bangalore” location. You have to scrape the job-title, job-location, company_name, experience_required. You have to scrape first 10 jobs data."
   ]
  },
  {
   "cell_type": "code",
   "execution_count": 49,
   "id": "0e3f123b",
   "metadata": {},
   "outputs": [],
   "source": [
    "#importing \n",
    "import pandas as pd\n",
    "import selenium\n",
    "from selenium import webdriver\n",
    "import warnings\n",
    "warnings.filterwarnings('ignore')\n",
    "import time"
   ]
  },
  {
   "cell_type": "code",
   "execution_count": 50,
   "id": "4ca3eeeb",
   "metadata": {},
   "outputs": [],
   "source": [
    "#driver\n",
    "driver = webdriver.Chrome('C:\\web driver\\chromedriver.exe')"
   ]
  },
  {
   "cell_type": "code",
   "execution_count": 51,
   "id": "6f09afbc",
   "metadata": {},
   "outputs": [],
   "source": [
    "#open a website where i willfatech the data\n",
    "driver.get(\"https://www.naukri.com/\")"
   ]
  },
  {
   "cell_type": "code",
   "execution_count": 52,
   "id": "c275d37a",
   "metadata": {},
   "outputs": [],
   "source": [
    "#serch_job_tittle\n",
    "serch_Data_Analyst = driver.find_element_by_class_name(\"suggestor-input\")\n",
    "serch_Data_Analyst.send_keys(\"Data Analyst\")"
   ]
  },
  {
   "cell_type": "code",
   "execution_count": 53,
   "id": "37c3b984",
   "metadata": {},
   "outputs": [],
   "source": [
    "#serch_location\n",
    "serch_city = driver.find_element_by_xpath(\"/html/body/div/div[2]/div[3]/div/div/div[5]/div/div/div/input\")\n",
    "serch_city.send_keys(\"Bangalore\")"
   ]
  },
  {
   "cell_type": "code",
   "execution_count": 54,
   "id": "18e785e2",
   "metadata": {},
   "outputs": [],
   "source": [
    "#click_button\n",
    "click_button = driver.find_element_by_xpath(\"/html/body/div/div[2]/div[3]/div/div/div[6]\")\n",
    "click_button.click()"
   ]
  },
  {
   "cell_type": "code",
   "execution_count": 55,
   "id": "dad79cdb",
   "metadata": {},
   "outputs": [],
   "source": [
    "#now make empty list\n",
    "job_tittle =[]\n",
    "job_location = []\n",
    "company_name=[]\n",
    "experience = []"
   ]
  },
  {
   "cell_type": "code",
   "execution_count": 56,
   "id": "85327ceb",
   "metadata": {},
   "outputs": [
    {
     "data": {
      "text/plain": [
       "[<selenium.webdriver.remote.webelement.WebElement (session=\"04115b24e6b11b38da7fbd288e7a1d04\", element=\"a81584d1-cfca-400e-ba2c-322712011b58\")>,\n",
       " <selenium.webdriver.remote.webelement.WebElement (session=\"04115b24e6b11b38da7fbd288e7a1d04\", element=\"bd42cfe6-c5bb-4bb8-95e0-1627482e395a\")>,\n",
       " <selenium.webdriver.remote.webelement.WebElement (session=\"04115b24e6b11b38da7fbd288e7a1d04\", element=\"bebdf53e-3936-47a4-bc98-9473d0b7ea88\")>,\n",
       " <selenium.webdriver.remote.webelement.WebElement (session=\"04115b24e6b11b38da7fbd288e7a1d04\", element=\"f197f5f5-752b-4046-9152-203cef5bbccf\")>,\n",
       " <selenium.webdriver.remote.webelement.WebElement (session=\"04115b24e6b11b38da7fbd288e7a1d04\", element=\"1e629069-4f9c-4a18-af85-7cc1432db1aa\")>,\n",
       " <selenium.webdriver.remote.webelement.WebElement (session=\"04115b24e6b11b38da7fbd288e7a1d04\", element=\"376fc7c9-34d2-47d2-b555-d3def49e1615\")>,\n",
       " <selenium.webdriver.remote.webelement.WebElement (session=\"04115b24e6b11b38da7fbd288e7a1d04\", element=\"6b5f202d-8c03-43de-aaa3-899ab3cc2715\")>,\n",
       " <selenium.webdriver.remote.webelement.WebElement (session=\"04115b24e6b11b38da7fbd288e7a1d04\", element=\"9c1674db-28c5-4943-8e42-6bbc3aaafeee\")>,\n",
       " <selenium.webdriver.remote.webelement.WebElement (session=\"04115b24e6b11b38da7fbd288e7a1d04\", element=\"d93008df-1a3c-4138-b19a-a6531013635c\")>,\n",
       " <selenium.webdriver.remote.webelement.WebElement (session=\"04115b24e6b11b38da7fbd288e7a1d04\", element=\"e6dbf18e-23c9-4a32-8d2e-04caa2834d4b\")>]"
      ]
     },
     "execution_count": 56,
     "metadata": {},
     "output_type": "execute_result"
    }
   ],
   "source": [
    "#now fatech data\n",
    "tittle = driver.find_elements_by_xpath(\"//a[@class='title fw500 ellipsis']\")\n",
    "tittle[0:10]"
   ]
  },
  {
   "cell_type": "code",
   "execution_count": 57,
   "id": "bcdb4c8b",
   "metadata": {},
   "outputs": [
    {
     "data": {
      "text/plain": [
       "20"
      ]
     },
     "execution_count": 57,
     "metadata": {},
     "output_type": "execute_result"
    }
   ],
   "source": [
    "len(tittle)"
   ]
  },
  {
   "cell_type": "code",
   "execution_count": 58,
   "id": "0e49a299",
   "metadata": {},
   "outputs": [
    {
     "data": {
      "text/plain": [
       "['EY GDS Data Analyst-Finland based project',\n",
       " 'Business & Data Analyst - Alteryx (London)',\n",
       " 'Data analyst / Data scientist, AVP',\n",
       " 'Data analyst / Data scientist, Associate',\n",
       " 'Data Analyst - Data and Analytics',\n",
       " 'Senior Mis Data Analyst',\n",
       " 'Junior Data Analyst/ Scientist- Fresher Position',\n",
       " 'Senior Data Analyst',\n",
       " 'Senior Data Analyst',\n",
       " 'Data Analyst - Data Science, 3 To 5 Years']"
      ]
     },
     "execution_count": 58,
     "metadata": {},
     "output_type": "execute_result"
    }
   ],
   "source": [
    "for i in tittle:\n",
    "    tittles = i.text\n",
    "    job_tittle.append(tittles)\n",
    "job_tittle[0:10]"
   ]
  },
  {
   "cell_type": "code",
   "execution_count": 59,
   "id": "0768272d",
   "metadata": {},
   "outputs": [],
   "source": [
    "location = driver.find_elements_by_xpath(\"//li[@class='fleft grey-text br2 placeHolderLi location']\")"
   ]
  },
  {
   "cell_type": "code",
   "execution_count": 60,
   "id": "f8b1fd31",
   "metadata": {},
   "outputs": [
    {
     "data": {
      "text/plain": [
       "[<selenium.webdriver.remote.webelement.WebElement (session=\"04115b24e6b11b38da7fbd288e7a1d04\", element=\"7ba231d4-4d56-4a40-b31e-df66cfb77046\")>,\n",
       " <selenium.webdriver.remote.webelement.WebElement (session=\"04115b24e6b11b38da7fbd288e7a1d04\", element=\"99cf8553-0275-4a31-b370-ee1c4069cdec\")>,\n",
       " <selenium.webdriver.remote.webelement.WebElement (session=\"04115b24e6b11b38da7fbd288e7a1d04\", element=\"a121f5e1-3e8e-4bca-82b4-a9f68a6a4144\")>,\n",
       " <selenium.webdriver.remote.webelement.WebElement (session=\"04115b24e6b11b38da7fbd288e7a1d04\", element=\"573a045b-0fcc-4985-857b-a20b2c7f629f\")>,\n",
       " <selenium.webdriver.remote.webelement.WebElement (session=\"04115b24e6b11b38da7fbd288e7a1d04\", element=\"b442a7e4-6cb7-4211-b39e-14482f77f316\")>,\n",
       " <selenium.webdriver.remote.webelement.WebElement (session=\"04115b24e6b11b38da7fbd288e7a1d04\", element=\"275baac6-4132-4b42-baf8-9917f61da6e3\")>,\n",
       " <selenium.webdriver.remote.webelement.WebElement (session=\"04115b24e6b11b38da7fbd288e7a1d04\", element=\"14d58e57-ff44-4a9c-ab2a-e710987aad33\")>,\n",
       " <selenium.webdriver.remote.webelement.WebElement (session=\"04115b24e6b11b38da7fbd288e7a1d04\", element=\"51ac3105-5a0d-458c-98b4-400a04517659\")>,\n",
       " <selenium.webdriver.remote.webelement.WebElement (session=\"04115b24e6b11b38da7fbd288e7a1d04\", element=\"a614e42b-52df-4aa9-af72-80e8cf8663c6\")>,\n",
       " <selenium.webdriver.remote.webelement.WebElement (session=\"04115b24e6b11b38da7fbd288e7a1d04\", element=\"d212acda-83c2-4729-b20d-df00731814c2\")>]"
      ]
     },
     "execution_count": 60,
     "metadata": {},
     "output_type": "execute_result"
    }
   ],
   "source": [
    "location[0:10]"
   ]
  },
  {
   "cell_type": "code",
   "execution_count": 61,
   "id": "238da131",
   "metadata": {},
   "outputs": [
    {
     "data": {
      "text/plain": [
       "['Bangalore/Bengaluru',\n",
       " 'Bangalore/Bengaluru, Delhi / NCR, Mumbai (All Areas)',\n",
       " 'Bangalore/Bengaluru',\n",
       " 'Bangalore/Bengaluru',\n",
       " 'Bangalore/Bengaluru',\n",
       " 'Bangalore/Bengaluru(Sarjapur), Delhi / NCR, Mumbai (All Areas)',\n",
       " 'Remote',\n",
       " 'Bangalore/Bengaluru',\n",
       " 'Bangalore/Bengaluru',\n",
       " 'Bangalore/Bengaluru']"
      ]
     },
     "execution_count": 61,
     "metadata": {},
     "output_type": "execute_result"
    }
   ],
   "source": [
    "for i in location:\n",
    "    loc = i.text\n",
    "    job_location.append(loc)\n",
    "job_location[0:10]"
   ]
  },
  {
   "cell_type": "code",
   "execution_count": 62,
   "id": "f4a9a101",
   "metadata": {},
   "outputs": [
    {
     "data": {
      "text/plain": [
       "[<selenium.webdriver.remote.webelement.WebElement (session=\"04115b24e6b11b38da7fbd288e7a1d04\", element=\"acff3d94-4ebb-4253-b1ee-f858e3dad92a\")>,\n",
       " <selenium.webdriver.remote.webelement.WebElement (session=\"04115b24e6b11b38da7fbd288e7a1d04\", element=\"da2904ae-1763-42cd-9bc5-e72560b19342\")>,\n",
       " <selenium.webdriver.remote.webelement.WebElement (session=\"04115b24e6b11b38da7fbd288e7a1d04\", element=\"2b561ff9-5aa5-4841-a164-437f66a3534c\")>,\n",
       " <selenium.webdriver.remote.webelement.WebElement (session=\"04115b24e6b11b38da7fbd288e7a1d04\", element=\"6a25fe32-479d-4f59-9534-7d50236ddb85\")>,\n",
       " <selenium.webdriver.remote.webelement.WebElement (session=\"04115b24e6b11b38da7fbd288e7a1d04\", element=\"6d4aac21-fe39-4a8e-b85c-b5a442fbbf3a\")>,\n",
       " <selenium.webdriver.remote.webelement.WebElement (session=\"04115b24e6b11b38da7fbd288e7a1d04\", element=\"f1edbcf9-bcd6-42e3-bef8-4e9c3fe6f175\")>,\n",
       " <selenium.webdriver.remote.webelement.WebElement (session=\"04115b24e6b11b38da7fbd288e7a1d04\", element=\"40d50d2c-7884-41b1-a706-b94e58fe4068\")>,\n",
       " <selenium.webdriver.remote.webelement.WebElement (session=\"04115b24e6b11b38da7fbd288e7a1d04\", element=\"aa240632-b652-4d09-a8ba-44032d5a9366\")>,\n",
       " <selenium.webdriver.remote.webelement.WebElement (session=\"04115b24e6b11b38da7fbd288e7a1d04\", element=\"46ac2510-350d-4c0d-baf8-d92a0d561b3f\")>,\n",
       " <selenium.webdriver.remote.webelement.WebElement (session=\"04115b24e6b11b38da7fbd288e7a1d04\", element=\"f2f2d727-ec24-454f-a83d-5e2da0fe3821\")>]"
      ]
     },
     "execution_count": 62,
     "metadata": {},
     "output_type": "execute_result"
    }
   ],
   "source": [
    "company = driver.find_elements_by_xpath('//a[@class=\"subTitle ellipsis fleft\"]')\n",
    "company[0:10]"
   ]
  },
  {
   "cell_type": "code",
   "execution_count": 63,
   "id": "18d3844b",
   "metadata": {},
   "outputs": [
    {
     "data": {
      "text/plain": [
       "['EY',\n",
       " 'Imaginative Brains LLP',\n",
       " 'Deutsche Bank',\n",
       " 'Deutsche Bank',\n",
       " 'Intel',\n",
       " 'Barbeque Nation',\n",
       " 'Sejal Consulting Hub',\n",
       " 'Flipkart',\n",
       " 'Walmart',\n",
       " 'Rise Finconnect Private Limited']"
      ]
     },
     "execution_count": 63,
     "metadata": {},
     "output_type": "execute_result"
    }
   ],
   "source": [
    "for i in company:\n",
    "    comp = i.text\n",
    "    company_name.append(comp)\n",
    "company_name[0:10]"
   ]
  },
  {
   "cell_type": "code",
   "execution_count": 64,
   "id": "01be1cc4",
   "metadata": {},
   "outputs": [
    {
     "data": {
      "text/plain": [
       "[<selenium.webdriver.remote.webelement.WebElement (session=\"04115b24e6b11b38da7fbd288e7a1d04\", element=\"f873dc42-d0b4-445e-922b-20a76173d4a1\")>,\n",
       " <selenium.webdriver.remote.webelement.WebElement (session=\"04115b24e6b11b38da7fbd288e7a1d04\", element=\"a779b3f1-1c4a-4691-bcad-46517659db0b\")>,\n",
       " <selenium.webdriver.remote.webelement.WebElement (session=\"04115b24e6b11b38da7fbd288e7a1d04\", element=\"da4caefa-8ca8-4cdb-8bbc-ed6b9fc7afcf\")>,\n",
       " <selenium.webdriver.remote.webelement.WebElement (session=\"04115b24e6b11b38da7fbd288e7a1d04\", element=\"eed7e146-49e3-43fc-a552-22e2b473b236\")>,\n",
       " <selenium.webdriver.remote.webelement.WebElement (session=\"04115b24e6b11b38da7fbd288e7a1d04\", element=\"e643fd26-3cbc-48c7-8dab-3424709a959d\")>,\n",
       " <selenium.webdriver.remote.webelement.WebElement (session=\"04115b24e6b11b38da7fbd288e7a1d04\", element=\"982b21e4-c960-4bb8-a54f-f25f18425f7e\")>,\n",
       " <selenium.webdriver.remote.webelement.WebElement (session=\"04115b24e6b11b38da7fbd288e7a1d04\", element=\"4fbb0e0e-3965-4b48-90ec-f6de792b4b5a\")>,\n",
       " <selenium.webdriver.remote.webelement.WebElement (session=\"04115b24e6b11b38da7fbd288e7a1d04\", element=\"66ce7873-9fd0-44e4-9095-159330733e26\")>,\n",
       " <selenium.webdriver.remote.webelement.WebElement (session=\"04115b24e6b11b38da7fbd288e7a1d04\", element=\"8f8f8882-cf75-4e12-89c9-2789d2add6e3\")>,\n",
       " <selenium.webdriver.remote.webelement.WebElement (session=\"04115b24e6b11b38da7fbd288e7a1d04\", element=\"7c20ddec-5f04-40a8-9aef-d6da7ad4e358\")>]"
      ]
     },
     "execution_count": 64,
     "metadata": {},
     "output_type": "execute_result"
    }
   ],
   "source": [
    "exp = driver.find_elements_by_xpath(\"//li[@class='fleft grey-text br2 placeHolderLi experience']/span\")\n",
    "exp[0:10]"
   ]
  },
  {
   "cell_type": "code",
   "execution_count": 65,
   "id": "546d7a47",
   "metadata": {},
   "outputs": [
    {
     "data": {
      "text/plain": [
       "['0-1 Yrs',\n",
       " '5-10 Yrs',\n",
       " '6-11 Yrs',\n",
       " '5-8 Yrs',\n",
       " '3-6 Yrs',\n",
       " '5-8 Yrs',\n",
       " '0-3 Yrs',\n",
       " '3-7 Yrs',\n",
       " '4-7 Yrs',\n",
       " '2-6 Yrs']"
      ]
     },
     "execution_count": 65,
     "metadata": {},
     "output_type": "execute_result"
    }
   ],
   "source": [
    "for i in exp:\n",
    "    ex=i.text\n",
    "    experience.append(ex)\n",
    "experience[0:10]"
   ]
  },
  {
   "cell_type": "code",
   "execution_count": 67,
   "id": "649a24c2",
   "metadata": {},
   "outputs": [
    {
     "name": "stdout",
     "output_type": "stream",
     "text": [
      "20 20 20 20\n"
     ]
    }
   ],
   "source": [
    "print(len(job_tittle),len(job_location),len(experience),len(company_name))"
   ]
  },
  {
   "cell_type": "code",
   "execution_count": 68,
   "id": "9d4a7f7c",
   "metadata": {},
   "outputs": [],
   "source": [
    "df = pd.DataFrame({\"Job Tittle\":job_tittle,\"Location\":job_location,\"Company\":company_name,\"Experience\":experience})"
   ]
  },
  {
   "cell_type": "code",
   "execution_count": 69,
   "id": "efe633ab",
   "metadata": {},
   "outputs": [
    {
     "data": {
      "text/html": [
       "<div>\n",
       "<style scoped>\n",
       "    .dataframe tbody tr th:only-of-type {\n",
       "        vertical-align: middle;\n",
       "    }\n",
       "\n",
       "    .dataframe tbody tr th {\n",
       "        vertical-align: top;\n",
       "    }\n",
       "\n",
       "    .dataframe thead th {\n",
       "        text-align: right;\n",
       "    }\n",
       "</style>\n",
       "<table border=\"1\" class=\"dataframe\">\n",
       "  <thead>\n",
       "    <tr style=\"text-align: right;\">\n",
       "      <th></th>\n",
       "      <th>Job Tittle</th>\n",
       "      <th>Location</th>\n",
       "      <th>Company</th>\n",
       "      <th>Experience</th>\n",
       "    </tr>\n",
       "  </thead>\n",
       "  <tbody>\n",
       "    <tr>\n",
       "      <th>0</th>\n",
       "      <td>EY GDS Data Analyst-Finland based project</td>\n",
       "      <td>Bangalore/Bengaluru</td>\n",
       "      <td>EY</td>\n",
       "      <td>0-1 Yrs</td>\n",
       "    </tr>\n",
       "    <tr>\n",
       "      <th>1</th>\n",
       "      <td>Business &amp; Data Analyst - Alteryx (London)</td>\n",
       "      <td>Bangalore/Bengaluru, Delhi / NCR, Mumbai (All ...</td>\n",
       "      <td>Imaginative Brains LLP</td>\n",
       "      <td>5-10 Yrs</td>\n",
       "    </tr>\n",
       "    <tr>\n",
       "      <th>2</th>\n",
       "      <td>Data analyst / Data scientist, AVP</td>\n",
       "      <td>Bangalore/Bengaluru</td>\n",
       "      <td>Deutsche Bank</td>\n",
       "      <td>6-11 Yrs</td>\n",
       "    </tr>\n",
       "    <tr>\n",
       "      <th>3</th>\n",
       "      <td>Data analyst / Data scientist, Associate</td>\n",
       "      <td>Bangalore/Bengaluru</td>\n",
       "      <td>Deutsche Bank</td>\n",
       "      <td>5-8 Yrs</td>\n",
       "    </tr>\n",
       "    <tr>\n",
       "      <th>4</th>\n",
       "      <td>Data Analyst - Data and Analytics</td>\n",
       "      <td>Bangalore/Bengaluru</td>\n",
       "      <td>Intel</td>\n",
       "      <td>3-6 Yrs</td>\n",
       "    </tr>\n",
       "    <tr>\n",
       "      <th>5</th>\n",
       "      <td>Senior Mis Data Analyst</td>\n",
       "      <td>Bangalore/Bengaluru(Sarjapur), Delhi / NCR, Mu...</td>\n",
       "      <td>Barbeque Nation</td>\n",
       "      <td>5-8 Yrs</td>\n",
       "    </tr>\n",
       "    <tr>\n",
       "      <th>6</th>\n",
       "      <td>Junior Data Analyst/ Scientist- Fresher Position</td>\n",
       "      <td>Remote</td>\n",
       "      <td>Sejal Consulting Hub</td>\n",
       "      <td>0-3 Yrs</td>\n",
       "    </tr>\n",
       "    <tr>\n",
       "      <th>7</th>\n",
       "      <td>Senior Data Analyst</td>\n",
       "      <td>Bangalore/Bengaluru</td>\n",
       "      <td>Flipkart</td>\n",
       "      <td>3-7 Yrs</td>\n",
       "    </tr>\n",
       "    <tr>\n",
       "      <th>8</th>\n",
       "      <td>Senior Data Analyst</td>\n",
       "      <td>Bangalore/Bengaluru</td>\n",
       "      <td>Walmart</td>\n",
       "      <td>4-7 Yrs</td>\n",
       "    </tr>\n",
       "    <tr>\n",
       "      <th>9</th>\n",
       "      <td>Data Analyst - Data Science, 3 To 5 Years</td>\n",
       "      <td>Bangalore/Bengaluru</td>\n",
       "      <td>Rise Finconnect Private Limited</td>\n",
       "      <td>2-6 Yrs</td>\n",
       "    </tr>\n",
       "  </tbody>\n",
       "</table>\n",
       "</div>"
      ],
      "text/plain": [
       "                                         Job Tittle  \\\n",
       "0         EY GDS Data Analyst-Finland based project   \n",
       "1        Business & Data Analyst - Alteryx (London)   \n",
       "2                Data analyst / Data scientist, AVP   \n",
       "3          Data analyst / Data scientist, Associate   \n",
       "4                 Data Analyst - Data and Analytics   \n",
       "5                           Senior Mis Data Analyst   \n",
       "6  Junior Data Analyst/ Scientist- Fresher Position   \n",
       "7                               Senior Data Analyst   \n",
       "8                               Senior Data Analyst   \n",
       "9         Data Analyst - Data Science, 3 To 5 Years   \n",
       "\n",
       "                                            Location  \\\n",
       "0                                Bangalore/Bengaluru   \n",
       "1  Bangalore/Bengaluru, Delhi / NCR, Mumbai (All ...   \n",
       "2                                Bangalore/Bengaluru   \n",
       "3                                Bangalore/Bengaluru   \n",
       "4                                Bangalore/Bengaluru   \n",
       "5  Bangalore/Bengaluru(Sarjapur), Delhi / NCR, Mu...   \n",
       "6                                             Remote   \n",
       "7                                Bangalore/Bengaluru   \n",
       "8                                Bangalore/Bengaluru   \n",
       "9                                Bangalore/Bengaluru   \n",
       "\n",
       "                           Company Experience  \n",
       "0                               EY    0-1 Yrs  \n",
       "1           Imaginative Brains LLP   5-10 Yrs  \n",
       "2                    Deutsche Bank   6-11 Yrs  \n",
       "3                    Deutsche Bank    5-8 Yrs  \n",
       "4                            Intel    3-6 Yrs  \n",
       "5                  Barbeque Nation    5-8 Yrs  \n",
       "6             Sejal Consulting Hub    0-3 Yrs  \n",
       "7                         Flipkart    3-7 Yrs  \n",
       "8                          Walmart    4-7 Yrs  \n",
       "9  Rise Finconnect Private Limited    2-6 Yrs  "
      ]
     },
     "execution_count": 69,
     "metadata": {},
     "output_type": "execute_result"
    }
   ],
   "source": [
    "df.head(10)"
   ]
  },
  {
   "cell_type": "code",
   "execution_count": null,
   "id": "28fba553",
   "metadata": {},
   "outputs": [],
   "source": []
  }
 ],
 "metadata": {
  "kernelspec": {
   "display_name": "Python 3 (ipykernel)",
   "language": "python",
   "name": "python3"
  },
  "language_info": {
   "codemirror_mode": {
    "name": "ipython",
    "version": 3
   },
   "file_extension": ".py",
   "mimetype": "text/x-python",
   "name": "python",
   "nbconvert_exporter": "python",
   "pygments_lexer": "ipython3",
   "version": "3.9.7"
  }
 },
 "nbformat": 4,
 "nbformat_minor": 5
}
