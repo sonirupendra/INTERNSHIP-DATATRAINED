{
 "cells": [
  {
   "cell_type": "code",
   "execution_count": 20,
   "id": "cc554c7e",
   "metadata": {},
   "outputs": [],
   "source": [
    "import pandas as pd\n",
    "import selenium\n",
    "from selenium import webdriver\n",
    "import warnings\n",
    "warnings.filterwarnings('ignore')"
   ]
  },
  {
   "cell_type": "code",
   "execution_count": 21,
   "id": "d2291559",
   "metadata": {},
   "outputs": [],
   "source": [
    "#open crome by using drive\n",
    "driver = webdriver.Chrome(\"C:\\web driver\\chromedriver.exe\")"
   ]
  },
  {
   "cell_type": "code",
   "execution_count": 3,
   "id": "0f7d4542",
   "metadata": {},
   "outputs": [],
   "source": [
    "#open nokri.com \n",
    "driver.get(\"https://www.naukri.com/\")"
   ]
  },
  {
   "cell_type": "code",
   "execution_count": 4,
   "id": "aecc7b8a",
   "metadata": {},
   "outputs": [],
   "source": [
    "#serch data scientist\n",
    "serch_engine = driver.find_element_by_class_name(\"suggestor-input\")\n",
    "serch_engine.send_keys(\"Data Scientist\")"
   ]
  },
  {
   "cell_type": "code",
   "execution_count": 5,
   "id": "6b2496c3",
   "metadata": {},
   "outputs": [],
   "source": [
    "#click button\n",
    "click = driver.find_element_by_xpath(\"/html/body/div/div[2]/div[3]/div/div/div[6]\")\n",
    "click.click()"
   ]
  },
  {
   "cell_type": "code",
   "execution_count": 6,
   "id": "5caa19da",
   "metadata": {},
   "outputs": [],
   "source": [
    "#filter location\n",
    "location_filter = driver.find_element_by_xpath(\"/html/body/div[1]/div[3]/div[2]/section[1]/div[2]/div[5]/div[2]/div[3]/label/i\")\n",
    "location_filter.click()"
   ]
  },
  {
   "cell_type": "code",
   "execution_count": 7,
   "id": "1cf7a623",
   "metadata": {},
   "outputs": [],
   "source": [
    "#filter salary\n",
    "salary_filter = driver.find_element_by_xpath(\"/html/body/div[1]/div[3]/div[2]/section[1]/div[2]/div[6]/div[2]/div[2]/label/i\")\n",
    "salary_filter.click()"
   ]
  },
  {
   "cell_type": "code",
   "execution_count": 8,
   "id": "4ccf1020",
   "metadata": {},
   "outputs": [],
   "source": [
    "#create empty list\n",
    "job_tittle =[]\n",
    "job_location = []\n",
    "company_name = []\n",
    "experience = []"
   ]
  },
  {
   "cell_type": "code",
   "execution_count": 9,
   "id": "9416a85a",
   "metadata": {},
   "outputs": [
    {
     "data": {
      "text/plain": [
       "[<selenium.webdriver.remote.webelement.WebElement (session=\"6bb65715a112b84b9c7ee15254d32118\", element=\"45210279-0c0c-459a-84e2-55ee7051da12\")>,\n",
       " <selenium.webdriver.remote.webelement.WebElement (session=\"6bb65715a112b84b9c7ee15254d32118\", element=\"ca31865c-0b32-40d8-8bf5-8e7a6e311b31\")>,\n",
       " <selenium.webdriver.remote.webelement.WebElement (session=\"6bb65715a112b84b9c7ee15254d32118\", element=\"8c58441f-a8f6-46e6-b980-a76baf3bf7e9\")>,\n",
       " <selenium.webdriver.remote.webelement.WebElement (session=\"6bb65715a112b84b9c7ee15254d32118\", element=\"397a8937-5dcb-4cd4-a8a2-af401a07f29e\")>,\n",
       " <selenium.webdriver.remote.webelement.WebElement (session=\"6bb65715a112b84b9c7ee15254d32118\", element=\"87846939-cb90-4cb3-8bda-8c7368c83f38\")>,\n",
       " <selenium.webdriver.remote.webelement.WebElement (session=\"6bb65715a112b84b9c7ee15254d32118\", element=\"0509a19c-58cd-489e-adef-a45a2e7c46d2\")>,\n",
       " <selenium.webdriver.remote.webelement.WebElement (session=\"6bb65715a112b84b9c7ee15254d32118\", element=\"9ffa9c2b-88b4-4dbb-acf7-c670b6bbfea4\")>,\n",
       " <selenium.webdriver.remote.webelement.WebElement (session=\"6bb65715a112b84b9c7ee15254d32118\", element=\"27e5870e-a873-489a-ab97-ec2fcd522938\")>,\n",
       " <selenium.webdriver.remote.webelement.WebElement (session=\"6bb65715a112b84b9c7ee15254d32118\", element=\"a774a1a4-eb73-45e2-a2fd-c200f2365860\")>,\n",
       " <selenium.webdriver.remote.webelement.WebElement (session=\"6bb65715a112b84b9c7ee15254d32118\", element=\"7c9d82fd-4432-463b-bfd8-f2627ec176d3\")>]"
      ]
     },
     "execution_count": 9,
     "metadata": {},
     "output_type": "execute_result"
    }
   ],
   "source": [
    "job = driver.find_elements_by_xpath(\"//a[@class='title fw500 ellipsis']\")\n",
    "job[0:10]"
   ]
  },
  {
   "cell_type": "code",
   "execution_count": 10,
   "id": "9dfb6816",
   "metadata": {},
   "outputs": [
    {
     "data": {
      "text/plain": [
       "['Job Opening with Wipro For Data Scientist position',\n",
       " 'Data Scientist - Machine learning AI',\n",
       " 'Data Scientist -Machine Learning with Python',\n",
       " 'Data Scientist',\n",
       " 'Data Scientist - MIND Infotech',\n",
       " 'Data Scientist - MIND Infotech',\n",
       " 'Data Scientist - Predictive Analytics',\n",
       " 'Data Scientist - Internet Jobs - II',\n",
       " 'Machine Learning Engineer | Data Engineer | Data Scientist',\n",
       " 'Dot Net Developer']"
      ]
     },
     "execution_count": 10,
     "metadata": {},
     "output_type": "execute_result"
    }
   ],
   "source": [
    "for i in job:\n",
    "    j = i.text\n",
    "    job_tittle.append(j)\n",
    "job_tittle[0:10]"
   ]
  },
  {
   "cell_type": "code",
   "execution_count": 11,
   "id": "b2b0cb51",
   "metadata": {},
   "outputs": [
    {
     "data": {
      "text/plain": [
       "[<selenium.webdriver.remote.webelement.WebElement (session=\"6bb65715a112b84b9c7ee15254d32118\", element=\"42d68a0f-22e4-4ddb-8b4f-a769d1b2e9fc\")>,\n",
       " <selenium.webdriver.remote.webelement.WebElement (session=\"6bb65715a112b84b9c7ee15254d32118\", element=\"92893797-693b-4ba0-b710-bdca368a8ad8\")>,\n",
       " <selenium.webdriver.remote.webelement.WebElement (session=\"6bb65715a112b84b9c7ee15254d32118\", element=\"b4040229-8c60-4628-bc3c-13ff99f8ba8b\")>,\n",
       " <selenium.webdriver.remote.webelement.WebElement (session=\"6bb65715a112b84b9c7ee15254d32118\", element=\"778719c1-a1ae-4df8-9553-32bd654d9d4c\")>,\n",
       " <selenium.webdriver.remote.webelement.WebElement (session=\"6bb65715a112b84b9c7ee15254d32118\", element=\"3e527451-acb3-447b-8478-91e312898c7a\")>,\n",
       " <selenium.webdriver.remote.webelement.WebElement (session=\"6bb65715a112b84b9c7ee15254d32118\", element=\"a513a4f5-2fce-49c4-9d07-f76fb255c08e\")>,\n",
       " <selenium.webdriver.remote.webelement.WebElement (session=\"6bb65715a112b84b9c7ee15254d32118\", element=\"541508bc-5963-4329-a1cc-9087975c0554\")>,\n",
       " <selenium.webdriver.remote.webelement.WebElement (session=\"6bb65715a112b84b9c7ee15254d32118\", element=\"791b5759-7731-4ff9-b56f-9d7dffc68eab\")>,\n",
       " <selenium.webdriver.remote.webelement.WebElement (session=\"6bb65715a112b84b9c7ee15254d32118\", element=\"b52eb534-a555-46fa-9db6-12af5139307d\")>,\n",
       " <selenium.webdriver.remote.webelement.WebElement (session=\"6bb65715a112b84b9c7ee15254d32118\", element=\"8c8c2378-c55d-4eca-b8bc-26b16006f49e\")>]"
      ]
     },
     "execution_count": 11,
     "metadata": {},
     "output_type": "execute_result"
    }
   ],
   "source": [
    "loc = driver.find_elements_by_xpath(\"//li[@class='fleft grey-text br2 placeHolderLi location']/span[1]\")\n",
    "loc[0:10]"
   ]
  },
  {
   "cell_type": "code",
   "execution_count": 12,
   "id": "d84b8e79",
   "metadata": {},
   "outputs": [
    {
     "data": {
      "text/plain": [
       "['Kolkata, Hyderabad/Secunderabad, Chennai, Bangalore/Bengaluru, Delhi / NCR, Mumbai (All Areas)',\n",
       " 'Bangalore/Bengaluru, Delhi / NCR, Mumbai (All Areas)',\n",
       " 'Noida, New Delhi, Gurgaon/Gurugram, Delhi / NCR',\n",
       " 'Pune, Gurgaon/Gurugram, Bangalore/Bengaluru',\n",
       " 'Noida',\n",
       " 'Noida',\n",
       " 'Noida, Mumbai, Chandigarh, Hyderabad/Secunderabad, Pune, Chennai, Gurgaon/Gurugram, Coimbatore, Bangalore/Bengaluru',\n",
       " 'Bangalore/Bengaluru, Delhi / NCR, Mumbai (All Areas)',\n",
       " 'Chennai, Bangalore/Bengaluru, Delhi / NCR(Sector-8 Noida)',\n",
       " 'Gurgaon/Gurugram, Delhi / NCR']"
      ]
     },
     "execution_count": 12,
     "metadata": {},
     "output_type": "execute_result"
    }
   ],
   "source": [
    "for i in loc:\n",
    "    l=i.text\n",
    "    job_location.append(l)\n",
    "job_location[0:10]"
   ]
  },
  {
   "cell_type": "code",
   "execution_count": 13,
   "id": "8da4e61a",
   "metadata": {},
   "outputs": [
    {
     "data": {
      "text/plain": [
       "[<selenium.webdriver.remote.webelement.WebElement (session=\"6bb65715a112b84b9c7ee15254d32118\", element=\"356dc909-a68e-4a5c-bed8-cefd32b9c579\")>,\n",
       " <selenium.webdriver.remote.webelement.WebElement (session=\"6bb65715a112b84b9c7ee15254d32118\", element=\"ca8a420c-ec32-44d9-82a1-6ac25ecc72e9\")>,\n",
       " <selenium.webdriver.remote.webelement.WebElement (session=\"6bb65715a112b84b9c7ee15254d32118\", element=\"377eb01e-b7d0-4cc7-8416-a151850b1656\")>,\n",
       " <selenium.webdriver.remote.webelement.WebElement (session=\"6bb65715a112b84b9c7ee15254d32118\", element=\"dd601e10-8c3e-4fbe-a522-c4c4ba61ab02\")>,\n",
       " <selenium.webdriver.remote.webelement.WebElement (session=\"6bb65715a112b84b9c7ee15254d32118\", element=\"4004e320-cead-4780-8d20-b82ffd38d6d9\")>,\n",
       " <selenium.webdriver.remote.webelement.WebElement (session=\"6bb65715a112b84b9c7ee15254d32118\", element=\"692856ac-9685-439d-9561-10fb93140138\")>,\n",
       " <selenium.webdriver.remote.webelement.WebElement (session=\"6bb65715a112b84b9c7ee15254d32118\", element=\"aa63a9f3-17de-49df-be1b-075563b4bb6e\")>,\n",
       " <selenium.webdriver.remote.webelement.WebElement (session=\"6bb65715a112b84b9c7ee15254d32118\", element=\"089f8cd9-e55f-4f5a-b5f7-c418efb9301a\")>,\n",
       " <selenium.webdriver.remote.webelement.WebElement (session=\"6bb65715a112b84b9c7ee15254d32118\", element=\"2b0666b2-6278-4401-beca-7546d7047946\")>,\n",
       " <selenium.webdriver.remote.webelement.WebElement (session=\"6bb65715a112b84b9c7ee15254d32118\", element=\"5b2602ca-83ee-448b-a9b4-1880f2981b46\")>]"
      ]
     },
     "execution_count": 13,
     "metadata": {},
     "output_type": "execute_result"
    }
   ],
   "source": [
    "company= driver.find_elements_by_xpath(\"//a[@class='subTitle ellipsis fleft']\")\n",
    "company[0:10]"
   ]
  },
  {
   "cell_type": "code",
   "execution_count": 14,
   "id": "733298e4",
   "metadata": {},
   "outputs": [
    {
     "data": {
      "text/plain": [
       "['Wipro',\n",
       " 'Teq Analytics',\n",
       " 'Genpact',\n",
       " 'SS Supply Chain Solutions Pvt. Ltd. (3SC)',\n",
       " 'MOTHERSONSUMI INFOTECH & DESIGNS LIMITED',\n",
       " 'MOTHERSONSUMI INFOTECH & DESIGNS LIMITED',\n",
       " 'Confidential',\n",
       " 'Jobs Territory',\n",
       " 'Tidyquant (OPC) Private Limited',\n",
       " 'Nibha Infotech Private Limited']"
      ]
     },
     "execution_count": 14,
     "metadata": {},
     "output_type": "execute_result"
    }
   ],
   "source": [
    "for i in company:\n",
    "    c=i.text\n",
    "    company_name.append(c)\n",
    "company_name[0:10]"
   ]
  },
  {
   "cell_type": "code",
   "execution_count": 15,
   "id": "ec05aef6",
   "metadata": {},
   "outputs": [
    {
     "data": {
      "text/plain": [
       "[<selenium.webdriver.remote.webelement.WebElement (session=\"6bb65715a112b84b9c7ee15254d32118\", element=\"4b08a958-ae80-4f95-af84-4bf14cbac539\")>,\n",
       " <selenium.webdriver.remote.webelement.WebElement (session=\"6bb65715a112b84b9c7ee15254d32118\", element=\"d791b4eb-047f-456f-9bd3-b8da38135974\")>,\n",
       " <selenium.webdriver.remote.webelement.WebElement (session=\"6bb65715a112b84b9c7ee15254d32118\", element=\"bbb7fd2a-1e45-4f50-8c53-ba57eb456f25\")>,\n",
       " <selenium.webdriver.remote.webelement.WebElement (session=\"6bb65715a112b84b9c7ee15254d32118\", element=\"18e42795-4982-4b52-9666-9622d3daa30a\")>,\n",
       " <selenium.webdriver.remote.webelement.WebElement (session=\"6bb65715a112b84b9c7ee15254d32118\", element=\"f52c2e04-f31e-4f05-86a0-309bfa29e09d\")>,\n",
       " <selenium.webdriver.remote.webelement.WebElement (session=\"6bb65715a112b84b9c7ee15254d32118\", element=\"b063eb1e-2b80-4bae-a002-85dbae4a2948\")>,\n",
       " <selenium.webdriver.remote.webelement.WebElement (session=\"6bb65715a112b84b9c7ee15254d32118\", element=\"788adea2-e218-4455-990d-55faf074bf4c\")>,\n",
       " <selenium.webdriver.remote.webelement.WebElement (session=\"6bb65715a112b84b9c7ee15254d32118\", element=\"724aa878-3dd5-457c-b18e-9881c90f2fe0\")>,\n",
       " <selenium.webdriver.remote.webelement.WebElement (session=\"6bb65715a112b84b9c7ee15254d32118\", element=\"9fa2a23b-244a-4f9b-8b15-274685308517\")>,\n",
       " <selenium.webdriver.remote.webelement.WebElement (session=\"6bb65715a112b84b9c7ee15254d32118\", element=\"b04d2f72-463e-4968-9801-cfbfd3b0866c\")>]"
      ]
     },
     "execution_count": 15,
     "metadata": {},
     "output_type": "execute_result"
    }
   ],
   "source": [
    "exp = driver.find_elements_by_xpath(\"//li[@class='fleft grey-text br2 placeHolderLi experience']/span[1]\")\n",
    "exp[0:10]"
   ]
  },
  {
   "cell_type": "code",
   "execution_count": 16,
   "id": "f323af5b",
   "metadata": {},
   "outputs": [
    {
     "data": {
      "text/plain": [
       "['2-7 Yrs',\n",
       " '3-8 Yrs',\n",
       " '1-4 Yrs',\n",
       " '2-5 Yrs',\n",
       " '4-8 Yrs',\n",
       " '4-8 Yrs',\n",
       " '1-6 Yrs',\n",
       " '3-6 Yrs',\n",
       " '1-3 Yrs',\n",
       " '3-8 Yrs']"
      ]
     },
     "execution_count": 16,
     "metadata": {},
     "output_type": "execute_result"
    }
   ],
   "source": [
    "for i in exp:\n",
    "    e=i.text\n",
    "    experience.append(e)\n",
    "experience[0:10]"
   ]
  },
  {
   "cell_type": "code",
   "execution_count": 17,
   "id": "21e210bd",
   "metadata": {},
   "outputs": [
    {
     "name": "stdout",
     "output_type": "stream",
     "text": [
      "20 20 20 20\n"
     ]
    }
   ],
   "source": [
    "print(len(job_location),len(job_tittle),len(experience),len(company))"
   ]
  },
  {
   "cell_type": "code",
   "execution_count": 19,
   "id": "3f3cc59e",
   "metadata": {},
   "outputs": [
    {
     "data": {
      "text/html": [
       "<div>\n",
       "<style scoped>\n",
       "    .dataframe tbody tr th:only-of-type {\n",
       "        vertical-align: middle;\n",
       "    }\n",
       "\n",
       "    .dataframe tbody tr th {\n",
       "        vertical-align: top;\n",
       "    }\n",
       "\n",
       "    .dataframe thead th {\n",
       "        text-align: right;\n",
       "    }\n",
       "</style>\n",
       "<table border=\"1\" class=\"dataframe\">\n",
       "  <thead>\n",
       "    <tr style=\"text-align: right;\">\n",
       "      <th></th>\n",
       "      <th>Job</th>\n",
       "      <th>Comapny</th>\n",
       "      <th>Location</th>\n",
       "      <th>Experience</th>\n",
       "    </tr>\n",
       "  </thead>\n",
       "  <tbody>\n",
       "    <tr>\n",
       "      <th>0</th>\n",
       "      <td>Job Opening with Wipro For Data Scientist posi...</td>\n",
       "      <td>Wipro</td>\n",
       "      <td>Kolkata, Hyderabad/Secunderabad, Chennai, Bang...</td>\n",
       "      <td>2-7 Yrs</td>\n",
       "    </tr>\n",
       "    <tr>\n",
       "      <th>1</th>\n",
       "      <td>Data Scientist - Machine learning AI</td>\n",
       "      <td>Teq Analytics</td>\n",
       "      <td>Bangalore/Bengaluru, Delhi / NCR, Mumbai (All ...</td>\n",
       "      <td>3-8 Yrs</td>\n",
       "    </tr>\n",
       "    <tr>\n",
       "      <th>2</th>\n",
       "      <td>Data Scientist -Machine Learning with Python</td>\n",
       "      <td>Genpact</td>\n",
       "      <td>Noida, New Delhi, Gurgaon/Gurugram, Delhi / NCR</td>\n",
       "      <td>1-4 Yrs</td>\n",
       "    </tr>\n",
       "    <tr>\n",
       "      <th>3</th>\n",
       "      <td>Data Scientist</td>\n",
       "      <td>SS Supply Chain Solutions Pvt. Ltd. (3SC)</td>\n",
       "      <td>Pune, Gurgaon/Gurugram, Bangalore/Bengaluru</td>\n",
       "      <td>2-5 Yrs</td>\n",
       "    </tr>\n",
       "    <tr>\n",
       "      <th>4</th>\n",
       "      <td>Data Scientist - MIND Infotech</td>\n",
       "      <td>MOTHERSONSUMI INFOTECH &amp; DESIGNS LIMITED</td>\n",
       "      <td>Noida</td>\n",
       "      <td>4-8 Yrs</td>\n",
       "    </tr>\n",
       "    <tr>\n",
       "      <th>5</th>\n",
       "      <td>Data Scientist - MIND Infotech</td>\n",
       "      <td>MOTHERSONSUMI INFOTECH &amp; DESIGNS LIMITED</td>\n",
       "      <td>Noida</td>\n",
       "      <td>4-8 Yrs</td>\n",
       "    </tr>\n",
       "    <tr>\n",
       "      <th>6</th>\n",
       "      <td>Data Scientist - Predictive Analytics</td>\n",
       "      <td>Confidential</td>\n",
       "      <td>Noida, Mumbai, Chandigarh, Hyderabad/Secundera...</td>\n",
       "      <td>1-6 Yrs</td>\n",
       "    </tr>\n",
       "    <tr>\n",
       "      <th>7</th>\n",
       "      <td>Data Scientist - Internet Jobs - II</td>\n",
       "      <td>Jobs Territory</td>\n",
       "      <td>Bangalore/Bengaluru, Delhi / NCR, Mumbai (All ...</td>\n",
       "      <td>3-6 Yrs</td>\n",
       "    </tr>\n",
       "    <tr>\n",
       "      <th>8</th>\n",
       "      <td>Machine Learning Engineer | Data Engineer | Da...</td>\n",
       "      <td>Tidyquant (OPC) Private Limited</td>\n",
       "      <td>Chennai, Bangalore/Bengaluru, Delhi / NCR(Sect...</td>\n",
       "      <td>1-3 Yrs</td>\n",
       "    </tr>\n",
       "    <tr>\n",
       "      <th>9</th>\n",
       "      <td>Dot Net Developer</td>\n",
       "      <td>Nibha Infotech Private Limited</td>\n",
       "      <td>Gurgaon/Gurugram, Delhi / NCR</td>\n",
       "      <td>3-8 Yrs</td>\n",
       "    </tr>\n",
       "  </tbody>\n",
       "</table>\n",
       "</div>"
      ],
      "text/plain": [
       "                                                 Job  \\\n",
       "0  Job Opening with Wipro For Data Scientist posi...   \n",
       "1               Data Scientist - Machine learning AI   \n",
       "2       Data Scientist -Machine Learning with Python   \n",
       "3                                     Data Scientist   \n",
       "4                     Data Scientist - MIND Infotech   \n",
       "5                     Data Scientist - MIND Infotech   \n",
       "6              Data Scientist - Predictive Analytics   \n",
       "7                Data Scientist - Internet Jobs - II   \n",
       "8  Machine Learning Engineer | Data Engineer | Da...   \n",
       "9                                  Dot Net Developer   \n",
       "\n",
       "                                     Comapny  \\\n",
       "0                                      Wipro   \n",
       "1                              Teq Analytics   \n",
       "2                                    Genpact   \n",
       "3  SS Supply Chain Solutions Pvt. Ltd. (3SC)   \n",
       "4   MOTHERSONSUMI INFOTECH & DESIGNS LIMITED   \n",
       "5   MOTHERSONSUMI INFOTECH & DESIGNS LIMITED   \n",
       "6                               Confidential   \n",
       "7                             Jobs Territory   \n",
       "8            Tidyquant (OPC) Private Limited   \n",
       "9             Nibha Infotech Private Limited   \n",
       "\n",
       "                                            Location Experience  \n",
       "0  Kolkata, Hyderabad/Secunderabad, Chennai, Bang...    2-7 Yrs  \n",
       "1  Bangalore/Bengaluru, Delhi / NCR, Mumbai (All ...    3-8 Yrs  \n",
       "2    Noida, New Delhi, Gurgaon/Gurugram, Delhi / NCR    1-4 Yrs  \n",
       "3        Pune, Gurgaon/Gurugram, Bangalore/Bengaluru    2-5 Yrs  \n",
       "4                                              Noida    4-8 Yrs  \n",
       "5                                              Noida    4-8 Yrs  \n",
       "6  Noida, Mumbai, Chandigarh, Hyderabad/Secundera...    1-6 Yrs  \n",
       "7  Bangalore/Bengaluru, Delhi / NCR, Mumbai (All ...    3-6 Yrs  \n",
       "8  Chennai, Bangalore/Bengaluru, Delhi / NCR(Sect...    1-3 Yrs  \n",
       "9                      Gurgaon/Gurugram, Delhi / NCR    3-8 Yrs  "
      ]
     },
     "execution_count": 19,
     "metadata": {},
     "output_type": "execute_result"
    }
   ],
   "source": [
    "df = pd.DataFrame({\"Job\":job_tittle,\"Comapny\":company_name,\"Location\":job_location,\"Experience\":experience})\n",
    "df.head(10)"
   ]
  },
  {
   "cell_type": "code",
   "execution_count": null,
   "id": "ed6ff1c9",
   "metadata": {},
   "outputs": [],
   "source": []
  }
 ],
 "metadata": {
  "kernelspec": {
   "display_name": "Python 3 (ipykernel)",
   "language": "python",
   "name": "python3"
  },
  "language_info": {
   "codemirror_mode": {
    "name": "ipython",
    "version": 3
   },
   "file_extension": ".py",
   "mimetype": "text/x-python",
   "name": "python",
   "nbconvert_exporter": "python",
   "pygments_lexer": "ipython3",
   "version": "3.9.7"
  }
 },
 "nbformat": 4,
 "nbformat_minor": 5
}
