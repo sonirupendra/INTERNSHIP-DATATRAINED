{
 "cells": [
  {
   "cell_type": "code",
   "execution_count": 25,
   "id": "c86e935a",
   "metadata": {},
   "outputs": [],
   "source": [
    "import selenium\n",
    "import  pandas as pd\n",
    "from selenium import webdriver\n",
    "import warnings\n",
    "warnings.filterwarnings(\"ignore\")"
   ]
  },
  {
   "cell_type": "code",
   "execution_count": 26,
   "id": "9327d7ad",
   "metadata": {},
   "outputs": [],
   "source": [
    "drive = webdriver.Chrome(\"C:\\web driver\\chromedriver.exe\")"
   ]
  },
  {
   "cell_type": "code",
   "execution_count": 27,
   "id": "55f37485",
   "metadata": {},
   "outputs": [],
   "source": [
    "#open nokari.com\n",
    "drive.get(\"https://www.naukri.com/\")"
   ]
  },
  {
   "cell_type": "code",
   "execution_count": 28,
   "id": "a7143e50",
   "metadata": {},
   "outputs": [],
   "source": [
    "#search data science\n",
    "serch_data_science  = drive.find_element_by_class_name(\"suggestor-input \")\n",
    "serch_data_science.send_keys(\"Data Scientist\")"
   ]
  },
  {
   "cell_type": "code",
   "execution_count": 29,
   "id": "bc412a7d",
   "metadata": {},
   "outputs": [],
   "source": [
    "#location\n",
    "serch_location = drive.find_element_by_xpath(\"/html/body/div/div[2]/div[3]/div/div/div[5]/div/div/div/input\")\n",
    "serch_location.send_keys(\"Bangalore\")"
   ]
  },
  {
   "cell_type": "code",
   "execution_count": 30,
   "id": "1d038bcd",
   "metadata": {},
   "outputs": [],
   "source": [
    "#click\n",
    "click = drive.find_element_by_xpath(\"/html/body/div/div[2]/div[3]/div/div/div[6]\")\n",
    "click.click()"
   ]
  },
  {
   "cell_type": "code",
   "execution_count": 45,
   "id": "0f2a5a7f",
   "metadata": {},
   "outputs": [],
   "source": [
    "#create empty lists\n",
    "job_tittles = []\n",
    "job_location =[]\n",
    "company=[]"
   ]
  },
  {
   "cell_type": "code",
   "execution_count": 46,
   "id": "c0f66735",
   "metadata": {},
   "outputs": [
    {
     "data": {
      "text/plain": [
       "[<selenium.webdriver.remote.webelement.WebElement (session=\"3be35e98ceec02fdd6cea7d8fe7bb3c3\", element=\"298ba4bf-108b-4a5c-8ea5-b3a66a382d01\")>,\n",
       " <selenium.webdriver.remote.webelement.WebElement (session=\"3be35e98ceec02fdd6cea7d8fe7bb3c3\", element=\"7f943d3f-470e-4b7b-8c5e-844ae9e56534\")>,\n",
       " <selenium.webdriver.remote.webelement.WebElement (session=\"3be35e98ceec02fdd6cea7d8fe7bb3c3\", element=\"95dfa87e-ed4e-457b-a326-1811ea9df3eb\")>,\n",
       " <selenium.webdriver.remote.webelement.WebElement (session=\"3be35e98ceec02fdd6cea7d8fe7bb3c3\", element=\"c6cff1c5-402b-491a-9e93-55daab5d902e\")>,\n",
       " <selenium.webdriver.remote.webelement.WebElement (session=\"3be35e98ceec02fdd6cea7d8fe7bb3c3\", element=\"c77ec301-8baf-4774-9c50-2d662c5b85af\")>,\n",
       " <selenium.webdriver.remote.webelement.WebElement (session=\"3be35e98ceec02fdd6cea7d8fe7bb3c3\", element=\"b7697ffe-1566-4ec3-a769-48f7e3774adb\")>,\n",
       " <selenium.webdriver.remote.webelement.WebElement (session=\"3be35e98ceec02fdd6cea7d8fe7bb3c3\", element=\"ab5a6470-e08b-4814-b35e-e2185e81dc8c\")>,\n",
       " <selenium.webdriver.remote.webelement.WebElement (session=\"3be35e98ceec02fdd6cea7d8fe7bb3c3\", element=\"ba77fdc7-f524-4a4b-9338-74e1cabf7c0d\")>,\n",
       " <selenium.webdriver.remote.webelement.WebElement (session=\"3be35e98ceec02fdd6cea7d8fe7bb3c3\", element=\"56307b87-baa9-4486-bc1f-00d35591a1be\")>,\n",
       " <selenium.webdriver.remote.webelement.WebElement (session=\"3be35e98ceec02fdd6cea7d8fe7bb3c3\", element=\"0e4a7f81-09e6-48ef-84ec-62162aa84f32\")>]"
      ]
     },
     "execution_count": 46,
     "metadata": {},
     "output_type": "execute_result"
    }
   ],
   "source": [
    "#fatech job tittle\n",
    "job = drive.find_elements_by_xpath(\"//a[@class='title fw500 ellipsis']\")\n",
    "job[0:10]"
   ]
  },
  {
   "cell_type": "code",
   "execution_count": 47,
   "id": "d9c17a7f",
   "metadata": {},
   "outputs": [
    {
     "data": {
      "text/plain": [
       "['AI Technologist Vacancy',\n",
       " 'Job Opening with Wipro For Data Scientist position',\n",
       " 'Senior Data Scientist',\n",
       " 'Senior Data Scientist',\n",
       " 'Data Scientist',\n",
       " 'Data Scientist',\n",
       " 'Data Scientist - Immediate Joiners',\n",
       " 'Data Scientist- AI/ML- R&D',\n",
       " 'Urgent Hiring For AI Data Scientist',\n",
       " 'Data Scientist']"
      ]
     },
     "execution_count": 47,
     "metadata": {},
     "output_type": "execute_result"
    }
   ],
   "source": [
    "for i in job:\n",
    "    j=i.text\n",
    "    job_tittles.append(j)\n",
    "job_tittles[0:10]"
   ]
  },
  {
   "cell_type": "code",
   "execution_count": 49,
   "id": "31760404",
   "metadata": {},
   "outputs": [
    {
     "data": {
      "text/plain": [
       "[<selenium.webdriver.remote.webelement.WebElement (session=\"3be35e98ceec02fdd6cea7d8fe7bb3c3\", element=\"c6e8d7a2-5f7b-4d83-8b1b-b83e6811c5ba\")>,\n",
       " <selenium.webdriver.remote.webelement.WebElement (session=\"3be35e98ceec02fdd6cea7d8fe7bb3c3\", element=\"e1d84074-8eb2-494e-a356-8d0d683df7ce\")>,\n",
       " <selenium.webdriver.remote.webelement.WebElement (session=\"3be35e98ceec02fdd6cea7d8fe7bb3c3\", element=\"f79a6d47-eab9-4c76-ba2c-f457a4aab756\")>,\n",
       " <selenium.webdriver.remote.webelement.WebElement (session=\"3be35e98ceec02fdd6cea7d8fe7bb3c3\", element=\"880714fe-68d7-47cd-8050-7ff9e418d1ec\")>,\n",
       " <selenium.webdriver.remote.webelement.WebElement (session=\"3be35e98ceec02fdd6cea7d8fe7bb3c3\", element=\"6481b2bd-f72c-4ccb-8667-7d3facb2b1ea\")>,\n",
       " <selenium.webdriver.remote.webelement.WebElement (session=\"3be35e98ceec02fdd6cea7d8fe7bb3c3\", element=\"0e7b84e6-37ef-46e6-84ed-272f463f0e40\")>,\n",
       " <selenium.webdriver.remote.webelement.WebElement (session=\"3be35e98ceec02fdd6cea7d8fe7bb3c3\", element=\"f13d4ed8-8513-448f-a3ba-a2b0794d1b0a\")>,\n",
       " <selenium.webdriver.remote.webelement.WebElement (session=\"3be35e98ceec02fdd6cea7d8fe7bb3c3\", element=\"35674993-511b-4601-932b-4e61fe00f38e\")>,\n",
       " <selenium.webdriver.remote.webelement.WebElement (session=\"3be35e98ceec02fdd6cea7d8fe7bb3c3\", element=\"46f12871-3c91-49fc-8a82-fdcada811786\")>,\n",
       " <selenium.webdriver.remote.webelement.WebElement (session=\"3be35e98ceec02fdd6cea7d8fe7bb3c3\", element=\"8c667cfe-fb28-487e-915c-e62ca8a6f49e\")>]"
      ]
     },
     "execution_count": 49,
     "metadata": {},
     "output_type": "execute_result"
    }
   ],
   "source": [
    "loc= drive.find_elements_by_xpath(\"//li[@class='fleft grey-text br2 placeHolderLi location']/span[1]\")\n",
    "loc[0:10]"
   ]
  },
  {
   "cell_type": "code",
   "execution_count": 50,
   "id": "7fc7ca13",
   "metadata": {},
   "outputs": [
    {
     "data": {
      "text/plain": [
       "['Kolkata, Hyderabad/Secunderabad, Pune, Ahmedabad, Chennai, Bangalore/Bengaluru, Delhi / NCR, Mumbai (All Areas)',\n",
       " 'Kolkata, Hyderabad/Secunderabad, Chennai, Bangalore/Bengaluru, Delhi / NCR, Mumbai (All Areas)',\n",
       " 'Bangalore/Bengaluru',\n",
       " 'Bangalore/Bengaluru',\n",
       " 'Bangalore/Bengaluru',\n",
       " 'Hyderabad/Secunderabad, Bangalore/Bengaluru, Delhi / NCR',\n",
       " 'Noida, Mumbai, Pune, Bangalore/Bengaluru',\n",
       " 'Noida, Hyderabad/Secunderabad, Pune, Gurgaon/Gurugram, Chennai, Bangalore/Bengaluru, Delhi / NCR',\n",
       " 'New Delhi, Bangalore/Bengaluru, Mumbai (All Areas)',\n",
       " 'Mumbai, Bangalore/Bengaluru']"
      ]
     },
     "execution_count": 50,
     "metadata": {},
     "output_type": "execute_result"
    }
   ],
   "source": [
    "for i in loc:\n",
    "    l=i.text\n",
    "    job_location.append(l)\n",
    "job_location[0:10]"
   ]
  },
  {
   "cell_type": "code",
   "execution_count": 51,
   "id": "c4bb67ab",
   "metadata": {},
   "outputs": [
    {
     "data": {
      "text/plain": [
       "[<selenium.webdriver.remote.webelement.WebElement (session=\"3be35e98ceec02fdd6cea7d8fe7bb3c3\", element=\"fd865544-1b30-4181-aa01-47c785e15fd5\")>,\n",
       " <selenium.webdriver.remote.webelement.WebElement (session=\"3be35e98ceec02fdd6cea7d8fe7bb3c3\", element=\"9dfef939-0ac8-40d8-814c-7055e528fb95\")>,\n",
       " <selenium.webdriver.remote.webelement.WebElement (session=\"3be35e98ceec02fdd6cea7d8fe7bb3c3\", element=\"b872ba0b-5416-469a-8bab-9b2d0bc4d82b\")>,\n",
       " <selenium.webdriver.remote.webelement.WebElement (session=\"3be35e98ceec02fdd6cea7d8fe7bb3c3\", element=\"c10bd5a4-400b-459c-8997-b7f2fa942e2d\")>,\n",
       " <selenium.webdriver.remote.webelement.WebElement (session=\"3be35e98ceec02fdd6cea7d8fe7bb3c3\", element=\"4e6dce61-459b-4307-a29a-f2927a241b96\")>,\n",
       " <selenium.webdriver.remote.webelement.WebElement (session=\"3be35e98ceec02fdd6cea7d8fe7bb3c3\", element=\"33c01451-808f-4e5d-809d-b3dd2e75ba2c\")>,\n",
       " <selenium.webdriver.remote.webelement.WebElement (session=\"3be35e98ceec02fdd6cea7d8fe7bb3c3\", element=\"03194c7a-de1c-412d-b881-3068f5d3533b\")>,\n",
       " <selenium.webdriver.remote.webelement.WebElement (session=\"3be35e98ceec02fdd6cea7d8fe7bb3c3\", element=\"438402f6-a588-4378-a788-7bef69be7a91\")>,\n",
       " <selenium.webdriver.remote.webelement.WebElement (session=\"3be35e98ceec02fdd6cea7d8fe7bb3c3\", element=\"93c12a3c-1c50-4be3-8dbe-43d3fd4cb039\")>,\n",
       " <selenium.webdriver.remote.webelement.WebElement (session=\"3be35e98ceec02fdd6cea7d8fe7bb3c3\", element=\"d90b0305-ab19-4d74-a3fa-749a57edfdb7\")>]"
      ]
     },
     "execution_count": 51,
     "metadata": {},
     "output_type": "execute_result"
    }
   ],
   "source": [
    "comp = drive.find_elements_by_xpath(\"//a[@class='subTitle ellipsis fleft']\")\n",
    "comp[0:10]"
   ]
  },
  {
   "cell_type": "code",
   "execution_count": 52,
   "id": "3f57c9da",
   "metadata": {},
   "outputs": [
    {
     "data": {
      "text/plain": [
       "['Wipro',\n",
       " 'Wipro',\n",
       " 'Walmart',\n",
       " 'Walmart',\n",
       " 'Genpact',\n",
       " 'Genpact',\n",
       " 'Bristlecone',\n",
       " 'EXL',\n",
       " 'Ashkom Media India Private Limited',\n",
       " 'UPL']"
      ]
     },
     "execution_count": 52,
     "metadata": {},
     "output_type": "execute_result"
    }
   ],
   "source": [
    "for i in comp:\n",
    "    c=i.text\n",
    "    company.append(c)\n",
    "company[0:10]"
   ]
  },
  {
   "cell_type": "code",
   "execution_count": 53,
   "id": "2b22f3bb",
   "metadata": {},
   "outputs": [
    {
     "name": "stdout",
     "output_type": "stream",
     "text": [
      "20 20 20\n"
     ]
    }
   ],
   "source": [
    "print(len(job_location),len(job_tittles),len(company))"
   ]
  },
  {
   "cell_type": "code",
   "execution_count": 54,
   "id": "c7258f2f",
   "metadata": {},
   "outputs": [
    {
     "data": {
      "text/html": [
       "<div>\n",
       "<style scoped>\n",
       "    .dataframe tbody tr th:only-of-type {\n",
       "        vertical-align: middle;\n",
       "    }\n",
       "\n",
       "    .dataframe tbody tr th {\n",
       "        vertical-align: top;\n",
       "    }\n",
       "\n",
       "    .dataframe thead th {\n",
       "        text-align: right;\n",
       "    }\n",
       "</style>\n",
       "<table border=\"1\" class=\"dataframe\">\n",
       "  <thead>\n",
       "    <tr style=\"text-align: right;\">\n",
       "      <th></th>\n",
       "      <th>Job</th>\n",
       "      <th>Location</th>\n",
       "      <th>Company</th>\n",
       "    </tr>\n",
       "  </thead>\n",
       "  <tbody>\n",
       "    <tr>\n",
       "      <th>0</th>\n",
       "      <td>AI Technologist Vacancy</td>\n",
       "      <td>Kolkata, Hyderabad/Secunderabad, Pune, Ahmedab...</td>\n",
       "      <td>Wipro</td>\n",
       "    </tr>\n",
       "    <tr>\n",
       "      <th>1</th>\n",
       "      <td>Job Opening with Wipro For Data Scientist posi...</td>\n",
       "      <td>Kolkata, Hyderabad/Secunderabad, Chennai, Bang...</td>\n",
       "      <td>Wipro</td>\n",
       "    </tr>\n",
       "    <tr>\n",
       "      <th>2</th>\n",
       "      <td>Senior Data Scientist</td>\n",
       "      <td>Bangalore/Bengaluru</td>\n",
       "      <td>Walmart</td>\n",
       "    </tr>\n",
       "    <tr>\n",
       "      <th>3</th>\n",
       "      <td>Senior Data Scientist</td>\n",
       "      <td>Bangalore/Bengaluru</td>\n",
       "      <td>Walmart</td>\n",
       "    </tr>\n",
       "    <tr>\n",
       "      <th>4</th>\n",
       "      <td>Data Scientist</td>\n",
       "      <td>Bangalore/Bengaluru</td>\n",
       "      <td>Genpact</td>\n",
       "    </tr>\n",
       "    <tr>\n",
       "      <th>5</th>\n",
       "      <td>Data Scientist</td>\n",
       "      <td>Hyderabad/Secunderabad, Bangalore/Bengaluru, D...</td>\n",
       "      <td>Genpact</td>\n",
       "    </tr>\n",
       "    <tr>\n",
       "      <th>6</th>\n",
       "      <td>Data Scientist - Immediate Joiners</td>\n",
       "      <td>Noida, Mumbai, Pune, Bangalore/Bengaluru</td>\n",
       "      <td>Bristlecone</td>\n",
       "    </tr>\n",
       "    <tr>\n",
       "      <th>7</th>\n",
       "      <td>Data Scientist- AI/ML- R&amp;D</td>\n",
       "      <td>Noida, Hyderabad/Secunderabad, Pune, Gurgaon/G...</td>\n",
       "      <td>EXL</td>\n",
       "    </tr>\n",
       "    <tr>\n",
       "      <th>8</th>\n",
       "      <td>Urgent Hiring For AI Data Scientist</td>\n",
       "      <td>New Delhi, Bangalore/Bengaluru, Mumbai (All Ar...</td>\n",
       "      <td>Ashkom Media India Private Limited</td>\n",
       "    </tr>\n",
       "    <tr>\n",
       "      <th>9</th>\n",
       "      <td>Data Scientist</td>\n",
       "      <td>Mumbai, Bangalore/Bengaluru</td>\n",
       "      <td>UPL</td>\n",
       "    </tr>\n",
       "  </tbody>\n",
       "</table>\n",
       "</div>"
      ],
      "text/plain": [
       "                                                 Job  \\\n",
       "0                            AI Technologist Vacancy   \n",
       "1  Job Opening with Wipro For Data Scientist posi...   \n",
       "2                              Senior Data Scientist   \n",
       "3                              Senior Data Scientist   \n",
       "4                                     Data Scientist   \n",
       "5                                     Data Scientist   \n",
       "6                 Data Scientist - Immediate Joiners   \n",
       "7                         Data Scientist- AI/ML- R&D   \n",
       "8                Urgent Hiring For AI Data Scientist   \n",
       "9                                     Data Scientist   \n",
       "\n",
       "                                            Location  \\\n",
       "0  Kolkata, Hyderabad/Secunderabad, Pune, Ahmedab...   \n",
       "1  Kolkata, Hyderabad/Secunderabad, Chennai, Bang...   \n",
       "2                                Bangalore/Bengaluru   \n",
       "3                                Bangalore/Bengaluru   \n",
       "4                                Bangalore/Bengaluru   \n",
       "5  Hyderabad/Secunderabad, Bangalore/Bengaluru, D...   \n",
       "6           Noida, Mumbai, Pune, Bangalore/Bengaluru   \n",
       "7  Noida, Hyderabad/Secunderabad, Pune, Gurgaon/G...   \n",
       "8  New Delhi, Bangalore/Bengaluru, Mumbai (All Ar...   \n",
       "9                        Mumbai, Bangalore/Bengaluru   \n",
       "\n",
       "                              Company  \n",
       "0                               Wipro  \n",
       "1                               Wipro  \n",
       "2                             Walmart  \n",
       "3                             Walmart  \n",
       "4                             Genpact  \n",
       "5                             Genpact  \n",
       "6                         Bristlecone  \n",
       "7                                 EXL  \n",
       "8  Ashkom Media India Private Limited  \n",
       "9                                 UPL  "
      ]
     },
     "execution_count": 54,
     "metadata": {},
     "output_type": "execute_result"
    }
   ],
   "source": [
    "df = pd.DataFrame({\"Job\":job_tittles,\"Location\":job_location,\"Company\":company})\n",
    "df.head(10)"
   ]
  },
  {
   "cell_type": "code",
   "execution_count": null,
   "id": "4de3c939",
   "metadata": {},
   "outputs": [],
   "source": []
  }
 ],
 "metadata": {
  "kernelspec": {
   "display_name": "Python 3 (ipykernel)",
   "language": "python",
   "name": "python3"
  },
  "language_info": {
   "codemirror_mode": {
    "name": "ipython",
    "version": 3
   },
   "file_extension": ".py",
   "mimetype": "text/x-python",
   "name": "python",
   "nbconvert_exporter": "python",
   "pygments_lexer": "ipython3",
   "version": "3.9.7"
  }
 },
 "nbformat": 4,
 "nbformat_minor": 5
}
