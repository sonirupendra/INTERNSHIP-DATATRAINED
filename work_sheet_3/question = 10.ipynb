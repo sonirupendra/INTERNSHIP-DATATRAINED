{
 "cells": [
  {
   "cell_type": "markdown",
   "id": "729a14f7",
   "metadata": {},
   "source": [
    "# Q10: Write a python program to scrape the salary data for Data Scientist designation.  You have to scrape Company name, Number of salaries, Average salary, Minsalary, Max Salary."
   ]
  },
  {
   "cell_type": "code",
   "execution_count": 4,
   "id": "0bb61336",
   "metadata": {},
   "outputs": [],
   "source": [
    "import pandas as pd\n",
    "import warnings\n",
    "warnings.filterwarnings(\"ignore\")\n",
    "from selenium import webdriver"
   ]
  },
  {
   "cell_type": "code",
   "execution_count": 5,
   "id": "38994959",
   "metadata": {},
   "outputs": [],
   "source": [
    "driver = webdriver.Chrome(\"C:\\web driver\\chromedriver.exe\")"
   ]
  },
  {
   "cell_type": "code",
   "execution_count": 6,
   "id": "c30798a0",
   "metadata": {},
   "outputs": [],
   "source": [
    "#open ambitionbox\n",
    "driver.get(\"https://www.ambitionbox.com/\")"
   ]
  },
  {
   "cell_type": "code",
   "execution_count": 7,
   "id": "0c0f3226",
   "metadata": {},
   "outputs": [],
   "source": [
    "#click salary option\n",
    "driver.find_element_by_xpath(\"/html/body/div[1]/nav/nav/a[4]\").click()"
   ]
  },
  {
   "cell_type": "code",
   "execution_count": 8,
   "id": "9568e88b",
   "metadata": {},
   "outputs": [],
   "source": [
    "#serch_job_profile\n",
    "serch = driver.find_element_by_xpath(\"/html/body/div/div/div/main/section[1]/div[2]/div[1]/span/input\")\n",
    "serch.send_keys(\"Data scientist\")"
   ]
  },
  {
   "cell_type": "code",
   "execution_count": 9,
   "id": "f3b45f2a",
   "metadata": {},
   "outputs": [
    {
     "name": "stdout",
     "output_type": "stream",
     "text": [
      "10\n",
      "['Walmart', 'Ab Inbev', 'American Express', 'ZS', 'Optum', 'Reliance Jio', 'Fractal Analytics', 'Tiger Analytics', 'UnitedHealth', 'EXL Service']\n"
     ]
    }
   ],
   "source": [
    "company = []\n",
    "com= driver.find_elements_by_xpath(\"//div[@class='name']/a\")\n",
    "for i in com:\n",
    "    c=i.text\n",
    "    company.append(c)\n",
    "print(len(company))\n",
    "print(company)"
   ]
  },
  {
   "cell_type": "code",
   "execution_count": 10,
   "id": "d825937f",
   "metadata": {},
   "outputs": [
    {
     "name": "stdout",
     "output_type": "stream",
     "text": [
      "10\n",
      "['based on 12 salaries', 'based on 33 salaries', 'based on 10 salaries', 'based on 15 salaries', 'based on 33 salaries', 'based on 21 salaries', 'based on 83 salaries', 'based on 50 salaries', 'based on 57 salaries', 'based on 10 salaries']\n"
     ]
    }
   ],
   "source": [
    "based_on = []\n",
    "bes = driver.find_elements_by_xpath(\"//div[@class='name']/span\")\n",
    "for i in bes:\n",
    "    b = i.text\n",
    "    based_on.append(b)\n",
    "print(len(based_on))\n",
    "print(based_on)"
   ]
  },
  {
   "cell_type": "code",
   "execution_count": 11,
   "id": "20c37256",
   "metadata": {},
   "outputs": [
    {
     "name": "stdout",
     "output_type": "stream",
     "text": [
      "10\n",
      "['₹ 30.2L', '₹ 20.6L', '₹ 19.9L', '₹ 16.7L', '₹ 16.1L', '₹ 15.7L', '₹ 15.4L', '₹ 14.8L', '₹ 14.0L', '₹ 13.3L']\n"
     ]
    }
   ],
   "source": [
    "avarage = []\n",
    "av_sal = driver.find_elements_by_xpath(\"//p[@class='averageCtc']\")\n",
    "for i in av_sal:\n",
    "    a=i.text\n",
    "    avarage.append(a)\n",
    "print(len(avarage))\n",
    "print(avarage)"
   ]
  },
  {
   "cell_type": "code",
   "execution_count": 12,
   "id": "69f420f4",
   "metadata": {},
   "outputs": [
    {
     "name": "stdout",
     "output_type": "stream",
     "text": [
      "10\n",
      "['₹ 25.0L', '₹ 36.0L', '₹ 15.0L', '₹ 25.5L', '₹ 14.1L', '₹ 25.0L', '₹ 11.0L', '₹ 22.0L', '₹ 11.0L', '₹ 22.6L']\n"
     ]
    }
   ],
   "source": [
    "minmum = []\n",
    "min_sal = driver.find_elements_by_xpath(\"//div[@class='value body-medium']\")\n",
    "for i in min_sal[0:10]:\n",
    "    a=i.text\n",
    "    minmum.append(a)\n",
    "print(len(minmum))\n",
    "print(minmum)"
   ]
  },
  {
   "cell_type": "code",
   "execution_count": 14,
   "id": "fcfdad44",
   "metadata": {},
   "outputs": [
    {
     "name": "stdout",
     "output_type": "stream",
     "text": [
      "10\n",
      "['₹ 36.0L', '₹ 25.5L', '₹ 25.0L', '₹ 22.0L', '₹ 22.6L', '₹ 26.2L', '₹ 22.0L', '₹ 20.0L', '₹ 21.1L', '₹ 21.0L']\n"
     ]
    }
   ],
   "source": [
    "maximuns = []\n",
    "max_sal = driver.find_elements_by_xpath(\"//div[@class='value body-medium'][2]\")\n",
    "for i in max_sal[0:10]:\n",
    "    a=i.text\n",
    "    maximuns.append(a)\n",
    "print(len(maximuns))\n",
    "print(maximuns)"
   ]
  },
  {
   "cell_type": "code",
   "execution_count": 15,
   "id": "0d019d19",
   "metadata": {},
   "outputs": [],
   "source": [
    "df = pd.DataFrame({\"Comapny Name\":company,\"Total salary recored\":based_on,\"Mininum salary\":minmum,\"Avarage salary\":avarage,\"Maximun salary\":maximuns})"
   ]
  },
  {
   "cell_type": "code",
   "execution_count": 16,
   "id": "82c3a3b4",
   "metadata": {},
   "outputs": [
    {
     "data": {
      "text/html": [
       "<div>\n",
       "<style scoped>\n",
       "    .dataframe tbody tr th:only-of-type {\n",
       "        vertical-align: middle;\n",
       "    }\n",
       "\n",
       "    .dataframe tbody tr th {\n",
       "        vertical-align: top;\n",
       "    }\n",
       "\n",
       "    .dataframe thead th {\n",
       "        text-align: right;\n",
       "    }\n",
       "</style>\n",
       "<table border=\"1\" class=\"dataframe\">\n",
       "  <thead>\n",
       "    <tr style=\"text-align: right;\">\n",
       "      <th></th>\n",
       "      <th>Comapny Name</th>\n",
       "      <th>Total salary recored</th>\n",
       "      <th>Mininum salary</th>\n",
       "      <th>Avarage salary</th>\n",
       "      <th>Maximun salary</th>\n",
       "    </tr>\n",
       "  </thead>\n",
       "  <tbody>\n",
       "    <tr>\n",
       "      <th>0</th>\n",
       "      <td>Walmart</td>\n",
       "      <td>based on 12 salaries</td>\n",
       "      <td>₹ 25.0L</td>\n",
       "      <td>₹ 30.2L</td>\n",
       "      <td>₹ 36.0L</td>\n",
       "    </tr>\n",
       "    <tr>\n",
       "      <th>1</th>\n",
       "      <td>Ab Inbev</td>\n",
       "      <td>based on 33 salaries</td>\n",
       "      <td>₹ 36.0L</td>\n",
       "      <td>₹ 20.6L</td>\n",
       "      <td>₹ 25.5L</td>\n",
       "    </tr>\n",
       "    <tr>\n",
       "      <th>2</th>\n",
       "      <td>American Express</td>\n",
       "      <td>based on 10 salaries</td>\n",
       "      <td>₹ 15.0L</td>\n",
       "      <td>₹ 19.9L</td>\n",
       "      <td>₹ 25.0L</td>\n",
       "    </tr>\n",
       "    <tr>\n",
       "      <th>3</th>\n",
       "      <td>ZS</td>\n",
       "      <td>based on 15 salaries</td>\n",
       "      <td>₹ 25.5L</td>\n",
       "      <td>₹ 16.7L</td>\n",
       "      <td>₹ 22.0L</td>\n",
       "    </tr>\n",
       "    <tr>\n",
       "      <th>4</th>\n",
       "      <td>Optum</td>\n",
       "      <td>based on 33 salaries</td>\n",
       "      <td>₹ 14.1L</td>\n",
       "      <td>₹ 16.1L</td>\n",
       "      <td>₹ 22.6L</td>\n",
       "    </tr>\n",
       "    <tr>\n",
       "      <th>5</th>\n",
       "      <td>Reliance Jio</td>\n",
       "      <td>based on 21 salaries</td>\n",
       "      <td>₹ 25.0L</td>\n",
       "      <td>₹ 15.7L</td>\n",
       "      <td>₹ 26.2L</td>\n",
       "    </tr>\n",
       "    <tr>\n",
       "      <th>6</th>\n",
       "      <td>Fractal Analytics</td>\n",
       "      <td>based on 83 salaries</td>\n",
       "      <td>₹ 11.0L</td>\n",
       "      <td>₹ 15.4L</td>\n",
       "      <td>₹ 22.0L</td>\n",
       "    </tr>\n",
       "    <tr>\n",
       "      <th>7</th>\n",
       "      <td>Tiger Analytics</td>\n",
       "      <td>based on 50 salaries</td>\n",
       "      <td>₹ 22.0L</td>\n",
       "      <td>₹ 14.8L</td>\n",
       "      <td>₹ 20.0L</td>\n",
       "    </tr>\n",
       "    <tr>\n",
       "      <th>8</th>\n",
       "      <td>UnitedHealth</td>\n",
       "      <td>based on 57 salaries</td>\n",
       "      <td>₹ 11.0L</td>\n",
       "      <td>₹ 14.0L</td>\n",
       "      <td>₹ 21.1L</td>\n",
       "    </tr>\n",
       "    <tr>\n",
       "      <th>9</th>\n",
       "      <td>EXL Service</td>\n",
       "      <td>based on 10 salaries</td>\n",
       "      <td>₹ 22.6L</td>\n",
       "      <td>₹ 13.3L</td>\n",
       "      <td>₹ 21.0L</td>\n",
       "    </tr>\n",
       "  </tbody>\n",
       "</table>\n",
       "</div>"
      ],
      "text/plain": [
       "        Comapny Name  Total salary recored Mininum salary Avarage salary  \\\n",
       "0            Walmart  based on 12 salaries        ₹ 25.0L        ₹ 30.2L   \n",
       "1           Ab Inbev  based on 33 salaries        ₹ 36.0L        ₹ 20.6L   \n",
       "2   American Express  based on 10 salaries        ₹ 15.0L        ₹ 19.9L   \n",
       "3                 ZS  based on 15 salaries        ₹ 25.5L        ₹ 16.7L   \n",
       "4              Optum  based on 33 salaries        ₹ 14.1L        ₹ 16.1L   \n",
       "5       Reliance Jio  based on 21 salaries        ₹ 25.0L        ₹ 15.7L   \n",
       "6  Fractal Analytics  based on 83 salaries        ₹ 11.0L        ₹ 15.4L   \n",
       "7    Tiger Analytics  based on 50 salaries        ₹ 22.0L        ₹ 14.8L   \n",
       "8       UnitedHealth  based on 57 salaries        ₹ 11.0L        ₹ 14.0L   \n",
       "9        EXL Service  based on 10 salaries        ₹ 22.6L        ₹ 13.3L   \n",
       "\n",
       "  Maximun salary  \n",
       "0        ₹ 36.0L  \n",
       "1        ₹ 25.5L  \n",
       "2        ₹ 25.0L  \n",
       "3        ₹ 22.0L  \n",
       "4        ₹ 22.6L  \n",
       "5        ₹ 26.2L  \n",
       "6        ₹ 22.0L  \n",
       "7        ₹ 20.0L  \n",
       "8        ₹ 21.1L  \n",
       "9        ₹ 21.0L  "
      ]
     },
     "execution_count": 16,
     "metadata": {},
     "output_type": "execute_result"
    }
   ],
   "source": [
    "df.head(10)"
   ]
  },
  {
   "cell_type": "code",
   "execution_count": null,
   "id": "2413d359",
   "metadata": {},
   "outputs": [],
   "source": []
  }
 ],
 "metadata": {
  "kernelspec": {
   "display_name": "Python 3 (ipykernel)",
   "language": "python",
   "name": "python3"
  },
  "language_info": {
   "codemirror_mode": {
    "name": "ipython",
    "version": 3
   },
   "file_extension": ".py",
   "mimetype": "text/x-python",
   "name": "python",
   "nbconvert_exporter": "python",
   "pygments_lexer": "ipython3",
   "version": "3.9.7"
  }
 },
 "nbformat": 4,
 "nbformat_minor": 5
}
