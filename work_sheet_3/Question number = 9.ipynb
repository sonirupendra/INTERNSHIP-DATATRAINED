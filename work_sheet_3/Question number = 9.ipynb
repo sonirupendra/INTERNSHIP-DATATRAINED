{
 "cells": [
  {
   "cell_type": "code",
   "execution_count": 1,
   "id": "5d8daa13",
   "metadata": {},
   "outputs": [],
   "source": [
    "import pandas as pd\n",
    "import warnings\n",
    "warnings.filterwarnings(\"ignore\")\n",
    "from selenium import webdriver"
   ]
  },
  {
   "cell_type": "code",
   "execution_count": 2,
   "id": "8c3efc43",
   "metadata": {},
   "outputs": [],
   "source": [
    "#open chorme by using web driver\n",
    "driver = webdriver.Chrome(\"C:\\web driver\\chromedriver.exe\")"
   ]
  },
  {
   "cell_type": "code",
   "execution_count": 3,
   "id": "2862849d",
   "metadata": {},
   "outputs": [],
   "source": [
    "#open ambitionbox\n",
    "driver.get(\"https://www.ambitionbox.com/\")"
   ]
  },
  {
   "cell_type": "code",
   "execution_count": 5,
   "id": "8e18214f",
   "metadata": {},
   "outputs": [],
   "source": [
    "#click job option\n",
    "driver.find_element_by_xpath(\"/html/body/div[1]/nav/nav/a[6]\").click()\n"
   ]
  },
  {
   "cell_type": "code",
   "execution_count": 9,
   "id": "7b71492b",
   "metadata": {},
   "outputs": [],
   "source": [
    "#serch Data scienctist\n",
    "serch = driver.find_element_by_xpath(\"/html/body/div/div/div/div[2]/div[1]/div[1]/div/div/div/div/span/input\")\n",
    "serch.send_keys(\"Data Scientist\")"
   ]
  },
  {
   "cell_type": "code",
   "execution_count": 10,
   "id": "88935607",
   "metadata": {},
   "outputs": [],
   "source": [
    "driver.find_element_by_xpath(\"/html/body/div/div/div/div[2]/div[1]/div[1]/div/div/div/button/span\").click()"
   ]
  },
  {
   "cell_type": "code",
   "execution_count": 16,
   "id": "af46a3fd",
   "metadata": {},
   "outputs": [],
   "source": [
    "#serch Noida location\n",
    "serch_noida = driver.find_element_by_xpath(\"/html/body/div/div/div/div[2]/div[1]/div[2]/div[1]/div/div/div/div[2]/div[2]/div/div[3]/div[1]/div[5]/div/label\").click()\n",
    "#serch_noida.send_keys(\"Noida\")"
   ]
  },
  {
   "cell_type": "code",
   "execution_count": 17,
   "id": "db2d8be1",
   "metadata": {},
   "outputs": [
    {
     "name": "stdout",
     "output_type": "stream",
     "text": [
      "10\n",
      "['GENPACT India Private Limited', 'Optum Global Solutions (India) Private Limited', 'GENPACT India Private Limited', 'Hcl Technologies Limited', 'EXL Services.com ( I ) Pvt. Ltd.', 'Paytm', 'Om Software Internet Solutions Private Limited', 'Paytm', 'MOTHERSONSUMI INFOTECH & DESIGNS LIMITED', 'Ashkom Media India Private Limited']\n"
     ]
    }
   ],
   "source": [
    "company_name = []\n",
    "comp=driver.find_elements_by_xpath(\"//p[@class='company body-medium']\")\n",
    "for i in comp:\n",
    "    c=i.text\n",
    "    company_name.append(c)\n",
    "print(len(company_name))\n",
    "print(company_name)"
   ]
  },
  {
   "cell_type": "code",
   "execution_count": 19,
   "id": "41e1183c",
   "metadata": {},
   "outputs": [
    {
     "name": "stdout",
     "output_type": "stream",
     "text": [
      "10\n",
      "['7d ago', '15d ago', '14d ago', '17d ago', '28d ago', '10d ago', '18d ago', '28d ago', '15d ago', '14d ago']\n"
     ]
    }
   ],
   "source": [
    "nos_of_days_ego =[]\n",
    "no = driver.find_elements_by_xpath(\"//span[@class='body-small-l'][1]\")\n",
    "for i in no[0:10]:\n",
    "    n=i.text\n",
    "    nos_of_days_ego.append(n)\n",
    "print(len(nos_of_days_ego))\n",
    "print(nos_of_days_ego)\n",
    "    "
   ]
  },
  {
   "cell_type": "code",
   "execution_count": 20,
   "id": "f8b32b0a",
   "metadata": {},
   "outputs": [
    {
     "name": "stdout",
     "output_type": "stream",
     "text": [
      "10\n",
      "['4.0', '4.2', '4.0', '3.9', '3.9', '3.7', '4.5', '3.7', '3.3', '3.5']\n"
     ]
    }
   ],
   "source": [
    "rating=[]\n",
    "rat= driver.find_elements_by_xpath(\"//span[@class='body-small']\")\n",
    "for i in rat:\n",
    "    r = i.text\n",
    "    rating.append(r)\n",
    "print(len(rating))\n",
    "print(rating)"
   ]
  },
  {
   "cell_type": "code",
   "execution_count": 22,
   "id": "12898fc7",
   "metadata": {},
   "outputs": [
    {
     "data": {
      "text/html": [
       "<div>\n",
       "<style scoped>\n",
       "    .dataframe tbody tr th:only-of-type {\n",
       "        vertical-align: middle;\n",
       "    }\n",
       "\n",
       "    .dataframe tbody tr th {\n",
       "        vertical-align: top;\n",
       "    }\n",
       "\n",
       "    .dataframe thead th {\n",
       "        text-align: right;\n",
       "    }\n",
       "</style>\n",
       "<table border=\"1\" class=\"dataframe\">\n",
       "  <thead>\n",
       "    <tr style=\"text-align: right;\">\n",
       "      <th></th>\n",
       "      <th>Company</th>\n",
       "      <th>No of days ago job posted</th>\n",
       "      <th>Rating</th>\n",
       "    </tr>\n",
       "  </thead>\n",
       "  <tbody>\n",
       "    <tr>\n",
       "      <th>0</th>\n",
       "      <td>GENPACT India Private Limited</td>\n",
       "      <td>7d ago</td>\n",
       "      <td>4.0</td>\n",
       "    </tr>\n",
       "    <tr>\n",
       "      <th>1</th>\n",
       "      <td>Optum Global Solutions (India) Private Limited</td>\n",
       "      <td>15d ago</td>\n",
       "      <td>4.2</td>\n",
       "    </tr>\n",
       "    <tr>\n",
       "      <th>2</th>\n",
       "      <td>GENPACT India Private Limited</td>\n",
       "      <td>14d ago</td>\n",
       "      <td>4.0</td>\n",
       "    </tr>\n",
       "    <tr>\n",
       "      <th>3</th>\n",
       "      <td>Hcl Technologies Limited</td>\n",
       "      <td>17d ago</td>\n",
       "      <td>3.9</td>\n",
       "    </tr>\n",
       "    <tr>\n",
       "      <th>4</th>\n",
       "      <td>EXL Services.com ( I ) Pvt. Ltd.</td>\n",
       "      <td>28d ago</td>\n",
       "      <td>3.9</td>\n",
       "    </tr>\n",
       "    <tr>\n",
       "      <th>5</th>\n",
       "      <td>Paytm</td>\n",
       "      <td>10d ago</td>\n",
       "      <td>3.7</td>\n",
       "    </tr>\n",
       "    <tr>\n",
       "      <th>6</th>\n",
       "      <td>Om Software Internet Solutions Private Limited</td>\n",
       "      <td>18d ago</td>\n",
       "      <td>4.5</td>\n",
       "    </tr>\n",
       "    <tr>\n",
       "      <th>7</th>\n",
       "      <td>Paytm</td>\n",
       "      <td>28d ago</td>\n",
       "      <td>3.7</td>\n",
       "    </tr>\n",
       "    <tr>\n",
       "      <th>8</th>\n",
       "      <td>MOTHERSONSUMI INFOTECH &amp; DESIGNS LIMITED</td>\n",
       "      <td>15d ago</td>\n",
       "      <td>3.3</td>\n",
       "    </tr>\n",
       "    <tr>\n",
       "      <th>9</th>\n",
       "      <td>Ashkom Media India Private Limited</td>\n",
       "      <td>14d ago</td>\n",
       "      <td>3.5</td>\n",
       "    </tr>\n",
       "  </tbody>\n",
       "</table>\n",
       "</div>"
      ],
      "text/plain": [
       "                                          Company No of days ago job posted  \\\n",
       "0                   GENPACT India Private Limited                    7d ago   \n",
       "1  Optum Global Solutions (India) Private Limited                   15d ago   \n",
       "2                   GENPACT India Private Limited                   14d ago   \n",
       "3                        Hcl Technologies Limited                   17d ago   \n",
       "4                EXL Services.com ( I ) Pvt. Ltd.                   28d ago   \n",
       "5                                           Paytm                   10d ago   \n",
       "6  Om Software Internet Solutions Private Limited                   18d ago   \n",
       "7                                           Paytm                   28d ago   \n",
       "8        MOTHERSONSUMI INFOTECH & DESIGNS LIMITED                   15d ago   \n",
       "9              Ashkom Media India Private Limited                   14d ago   \n",
       "\n",
       "  Rating  \n",
       "0    4.0  \n",
       "1    4.2  \n",
       "2    4.0  \n",
       "3    3.9  \n",
       "4    3.9  \n",
       "5    3.7  \n",
       "6    4.5  \n",
       "7    3.7  \n",
       "8    3.3  \n",
       "9    3.5  "
      ]
     },
     "execution_count": 22,
     "metadata": {},
     "output_type": "execute_result"
    }
   ],
   "source": [
    "df = pd.DataFrame({\"Company\":company_name,\"No of days ago job posted\":nos_of_days_ego,\"Rating\":rating})\n",
    "df.head(10)"
   ]
  },
  {
   "cell_type": "code",
   "execution_count": null,
   "id": "14a30f54",
   "metadata": {},
   "outputs": [],
   "source": []
  }
 ],
 "metadata": {
  "kernelspec": {
   "display_name": "Python 3 (ipykernel)",
   "language": "python",
   "name": "python3"
  },
  "language_info": {
   "codemirror_mode": {
    "name": "ipython",
    "version": 3
   },
   "file_extension": ".py",
   "mimetype": "text/x-python",
   "name": "python",
   "nbconvert_exporter": "python",
   "pygments_lexer": "ipython3",
   "version": "3.9.7"
  }
 },
 "nbformat": 4,
 "nbformat_minor": 5
}
