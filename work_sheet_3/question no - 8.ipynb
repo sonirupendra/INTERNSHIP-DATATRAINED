{
 "cells": [
  {
   "cell_type": "code",
   "execution_count": 1,
   "id": "5e3d7911",
   "metadata": {},
   "outputs": [],
   "source": [
    "import pandas as pd\n",
    "import warnings\n",
    "warnings.filterwarnings(\"ignore\")\n",
    "from selenium import webdriver"
   ]
  },
  {
   "cell_type": "code",
   "execution_count": 2,
   "id": "dafb3149",
   "metadata": {},
   "outputs": [],
   "source": [
    "#open chorme by using web driver\n",
    "driver = webdriver.Chrome(\"C:\\web driver\\chromedriver.exe\")"
   ]
  },
  {
   "cell_type": "code",
   "execution_count": 3,
   "id": "0891adcf",
   "metadata": {},
   "outputs": [],
   "source": [
    "#open amazon\n",
    "driver.get(\"https://www.amazon.in/\")"
   ]
  },
  {
   "cell_type": "code",
   "execution_count": 4,
   "id": "12908f7d",
   "metadata": {},
   "outputs": [],
   "source": [
    "#serch leptop\n",
    "serch=driver.find_element_by_xpath(\"/html/body/div[1]/header/div/div[1]/div[2]/div/form/div[2]/div[1]/input\")\n",
    "serch.send_keys(\"leptop\")"
   ]
  },
  {
   "cell_type": "code",
   "execution_count": 5,
   "id": "888ff30f",
   "metadata": {},
   "outputs": [],
   "source": [
    "driver.find_element_by_xpath(\"/html/body/div[1]/header/div/div[1]/div[2]/div/form/div[3]/div\").click()"
   ]
  },
  {
   "cell_type": "code",
   "execution_count": 6,
   "id": "2fdad469",
   "metadata": {},
   "outputs": [],
   "source": [
    "#cpu type intel corei7\n",
    "driver.find_element_by_xpath(\"/html/body/div[1]/div[2]/div[1]/div[2]/div/div[3]/span/div[1]/div/div/div[6]/ul[4]/li[12]/span/a/span\").click()"
   ]
  },
  {
   "cell_type": "code",
   "execution_count": 7,
   "id": "82fd940d",
   "metadata": {},
   "outputs": [],
   "source": [
    "#empty list\n",
    "tittle = []\n",
    "price = []"
   ]
  },
  {
   "cell_type": "code",
   "execution_count": 8,
   "id": "0f3b7239",
   "metadata": {},
   "outputs": [
    {
     "name": "stdout",
     "output_type": "stream",
     "text": [
      "10\n",
      "['HP Pavilion 14 12th Gen Intel Core i5 16GB SDRAM/512GB SSD 14 inch(35.6cm) FHD,IPS,Micro-Edge Display/Intel UHD Graphics/B&O/Win 11/Alexa Built-in/Backlit KB/FPR/MSO 2021/Natural Silver, 14-dv2014TU', 'HP Pavilion 14 11th Gen Intel Core i5 14 inch(35.6 cm) Laptop, 8GB RAM/512GB SSD FHD IPS Micro-Edge Display/Iris Xe Graphics/Backlit KB/B&O Audio/Alexa/Windows 11 Home/Thin & Light/1.41kg, 14-dv1000TU', 'Lenovo IdeaPad Slim 3 10th Gen Intel Core i5 15.6\" (39.62cm) FHD Laptop (8GB/512GB SSD/Win 11/Office 2021/2 Year Warranty/3 Month Game Pass/Platinum Grey/1.85Kg), 81WE01MYIN', 'Mi Notebook Pro QHD+ IPS Anti Glare Display Intel Core i5-11300H 11th Gen 14 inch(35.56 cms) Thin & Light Laptop (16GB/512GB SSD/Iris Xe Graphics/Win 11/MS Office 21/Backlit KB/FP Sensor/1.4 Kg)', 'Dell New Vostro 3400 Laptop, Intel i5-1135G7, Win11 + Office\\'21, 8GB GDDR4, 512GB SSD, 14\" (35.56Cms) FHD AG, Accent Black (D552256WIN9B, 1.59Kgs)', 'Honor MagicBook X 14, Intel Core i5-10210U 14 inch (35.56 cm) FHD IPS Anti-Glare Thin and Light Laptop (8GB/512GB PCIe SSD/Windows 10/1.38Kg), Gray, (NobleBR-WAH9E)', 'Acer Aspire 3 Intel Core i5 11th Generation 15.6-inch (39.6 cms) Full HD Laptop - (8 GB/1TB HDD/Windows 11 Home/1.7 Kg/Silver) A315-58', 'Lenovo ThinkBook 14 Intel Core i5 11th Gen 14\" (35.56cm) FHD IPS Thin & Light Laptop (16GB RAM/512GB SSD/Windows 11 Home/MS Office 2021/FPR/Intel Iris Xe Graphics Mineral Grey/1.4 kg), 20VDA0TLIH', 'ASUS TUF Gaming F15 (2021), 15.6\" (39.62 cms) FHD 144Hz, Intel Core i5-10300H 10th Gen, GTX 1650 4GB Graphics, Gaming Laptop (8GB RAM/512GB NVMe SSD/Windows 11/Black/2.30 Kg), FX506LH-HN258W', 'HP 15s 11th Gen Intel Core i5 15.6 inch(39.6 cm) FHD Anti-Glare Display Laptop (8GB RAM/512GB SSD Micro-Edge/Iris Xe Graphics/Backlit Keyboard/Win 11/Alexa/Dual Speakers/MSO, 15s- fq4021TU, 1.69Kg)']\n"
     ]
    }
   ],
   "source": [
    "tilles = driver.find_elements_by_xpath(\"//span[@class='a-size-medium a-color-base a-text-normal']\")\n",
    "for i in tilles[0:10]:\n",
    "    t = i.text\n",
    "    tittle.append(t)\n",
    "print(len(tittle))\n",
    "print(tittle)"
   ]
  },
  {
   "cell_type": "code",
   "execution_count": 9,
   "id": "d7da8572",
   "metadata": {},
   "outputs": [
    {
     "name": "stdout",
     "output_type": "stream",
     "text": [
      "10\n",
      "['68,990', '61,700', '45,990', '57,990', '51,499', '42,990', '46,490', '59,990', '57,990', '52,990']\n"
     ]
    }
   ],
   "source": [
    "pre = driver.find_elements_by_xpath(\"//span[@class='a-price-whole']\")\n",
    "for i in pre[0:10]:\n",
    "    r = i.text\n",
    "    price.append(r)\n",
    "print(len(price))\n",
    "print(price)\n",
    "    \n",
    "    "
   ]
  },
  {
   "cell_type": "code",
   "execution_count": 10,
   "id": "b64e1d3b",
   "metadata": {},
   "outputs": [
    {
     "data": {
      "text/html": [
       "<div>\n",
       "<style scoped>\n",
       "    .dataframe tbody tr th:only-of-type {\n",
       "        vertical-align: middle;\n",
       "    }\n",
       "\n",
       "    .dataframe tbody tr th {\n",
       "        vertical-align: top;\n",
       "    }\n",
       "\n",
       "    .dataframe thead th {\n",
       "        text-align: right;\n",
       "    }\n",
       "</style>\n",
       "<table border=\"1\" class=\"dataframe\">\n",
       "  <thead>\n",
       "    <tr style=\"text-align: right;\">\n",
       "      <th></th>\n",
       "      <th>Leptop Information</th>\n",
       "      <th>Price</th>\n",
       "    </tr>\n",
       "  </thead>\n",
       "  <tbody>\n",
       "    <tr>\n",
       "      <th>0</th>\n",
       "      <td>HP Pavilion 14 12th Gen Intel Core i5 16GB SDR...</td>\n",
       "      <td>68,990</td>\n",
       "    </tr>\n",
       "    <tr>\n",
       "      <th>1</th>\n",
       "      <td>HP Pavilion 14 11th Gen Intel Core i5 14 inch(...</td>\n",
       "      <td>61,700</td>\n",
       "    </tr>\n",
       "    <tr>\n",
       "      <th>2</th>\n",
       "      <td>Lenovo IdeaPad Slim 3 10th Gen Intel Core i5 1...</td>\n",
       "      <td>45,990</td>\n",
       "    </tr>\n",
       "    <tr>\n",
       "      <th>3</th>\n",
       "      <td>Mi Notebook Pro QHD+ IPS Anti Glare Display In...</td>\n",
       "      <td>57,990</td>\n",
       "    </tr>\n",
       "    <tr>\n",
       "      <th>4</th>\n",
       "      <td>Dell New Vostro 3400 Laptop, Intel i5-1135G7, ...</td>\n",
       "      <td>51,499</td>\n",
       "    </tr>\n",
       "    <tr>\n",
       "      <th>5</th>\n",
       "      <td>Honor MagicBook X 14, Intel Core i5-10210U 14 ...</td>\n",
       "      <td>42,990</td>\n",
       "    </tr>\n",
       "    <tr>\n",
       "      <th>6</th>\n",
       "      <td>Acer Aspire 3 Intel Core i5 11th Generation 15...</td>\n",
       "      <td>46,490</td>\n",
       "    </tr>\n",
       "    <tr>\n",
       "      <th>7</th>\n",
       "      <td>Lenovo ThinkBook 14 Intel Core i5 11th Gen 14\"...</td>\n",
       "      <td>59,990</td>\n",
       "    </tr>\n",
       "    <tr>\n",
       "      <th>8</th>\n",
       "      <td>ASUS TUF Gaming F15 (2021), 15.6\" (39.62 cms) ...</td>\n",
       "      <td>57,990</td>\n",
       "    </tr>\n",
       "    <tr>\n",
       "      <th>9</th>\n",
       "      <td>HP 15s 11th Gen Intel Core i5 15.6 inch(39.6 c...</td>\n",
       "      <td>52,990</td>\n",
       "    </tr>\n",
       "  </tbody>\n",
       "</table>\n",
       "</div>"
      ],
      "text/plain": [
       "                                  Leptop Information   Price\n",
       "0  HP Pavilion 14 12th Gen Intel Core i5 16GB SDR...  68,990\n",
       "1  HP Pavilion 14 11th Gen Intel Core i5 14 inch(...  61,700\n",
       "2  Lenovo IdeaPad Slim 3 10th Gen Intel Core i5 1...  45,990\n",
       "3  Mi Notebook Pro QHD+ IPS Anti Glare Display In...  57,990\n",
       "4  Dell New Vostro 3400 Laptop, Intel i5-1135G7, ...  51,499\n",
       "5  Honor MagicBook X 14, Intel Core i5-10210U 14 ...  42,990\n",
       "6  Acer Aspire 3 Intel Core i5 11th Generation 15...  46,490\n",
       "7  Lenovo ThinkBook 14 Intel Core i5 11th Gen 14\"...  59,990\n",
       "8  ASUS TUF Gaming F15 (2021), 15.6\" (39.62 cms) ...  57,990\n",
       "9  HP 15s 11th Gen Intel Core i5 15.6 inch(39.6 c...  52,990"
      ]
     },
     "execution_count": 10,
     "metadata": {},
     "output_type": "execute_result"
    }
   ],
   "source": [
    "df =  pd.DataFrame({\"Leptop Information\":tittle,\"Price\":price})\n",
    "df.head(10)"
   ]
  },
  {
   "cell_type": "code",
   "execution_count": null,
   "id": "e14cd82c",
   "metadata": {},
   "outputs": [],
   "source": []
  }
 ],
 "metadata": {
  "kernelspec": {
   "display_name": "Python 3 (ipykernel)",
   "language": "python",
   "name": "python3"
  },
  "language_info": {
   "codemirror_mode": {
    "name": "ipython",
    "version": 3
   },
   "file_extension": ".py",
   "mimetype": "text/x-python",
   "name": "python",
   "nbconvert_exporter": "python",
   "pygments_lexer": "ipython3",
   "version": "3.9.7"
  }
 },
 "nbformat": 4,
 "nbformat_minor": 5
}
