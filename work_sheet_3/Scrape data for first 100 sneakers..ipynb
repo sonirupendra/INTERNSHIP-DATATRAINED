{
 "cells": [
  {
   "cell_type": "code",
   "execution_count": null,
   "id": "05cb0c3e",
   "metadata": {},
   "outputs": [],
   "source": [
    "import pandas as pd\n",
    "from selenium import webdriver\n",
    "import warnings\n",
    "warnings.filterwarnings(\"ignore\")"
   ]
  },
  {
   "cell_type": "code",
   "execution_count": 27,
   "id": "e45a9b7c",
   "metadata": {},
   "outputs": [],
   "source": [
    "driver = webdriver.Chrome(\"C:\\web driver\\chromedriver.exe\")"
   ]
  },
  {
   "cell_type": "code",
   "execution_count": 28,
   "id": "59b12101",
   "metadata": {},
   "outputs": [],
   "source": [
    "#open flipkart\n",
    "driver.get(\"https://www.flipkart.com/\")"
   ]
  },
  {
   "cell_type": "code",
   "execution_count": 29,
   "id": "3b91feb7",
   "metadata": {},
   "outputs": [],
   "source": [
    "#serch sneakers\n",
    "serch_sneakers=driver.find_element_by_xpath(\"/html/body/div[1]/div/div[1]/div[1]/div[2]/div[2]/form/div/div/input\")\n",
    "serch_sneakers.send_keys(\"sneakers\")"
   ]
  },
  {
   "cell_type": "code",
   "execution_count": 30,
   "id": "ea19b7c2",
   "metadata": {},
   "outputs": [],
   "source": [
    "driver.find_element_by_xpath(\"/html/body/div[1]/div/div[1]/div[1]/div[2]/div[2]/form/div/button\").click()"
   ]
  },
  {
   "cell_type": "code",
   "execution_count": 31,
   "id": "57559b38",
   "metadata": {},
   "outputs": [],
   "source": [
    "#empty list\n",
    "brand = []\n",
    "production=[]\n",
    "price = []"
   ]
  },
  {
   "cell_type": "code",
   "execution_count": 36,
   "id": "de36dab9",
   "metadata": {},
   "outputs": [
    {
     "name": "stdout",
     "output_type": "stream",
     "text": [
      "100\n",
      "['Chevit', 'BRUTON', 'BIRDE', 'Layasa', 'Magnolia', 'Robbie jones', 'BRUTON', 'Chevit', 'URBANBOX', 'Labbin', 'BRUTON', 'HOTSTYLE', 'Robbie jones', 'Robbie jones', 'Kraasa', 'Chevit', 'KWIK FIT', 'BRUTON', 'aadi', 'BIRDE', 'Robbie jones', 'D-SNEAKERZ', 'Dicy', 'HONEY', 'Robbie jones', 'ASTEROID', 'U.S. POLO ASSN.', 'Bacan', 'bluemaker', 'CAMPUS', 'HOTSTYLE', 'PUMA', 'Kraasa', 'CLYMB', 'aadi', 'KNIGHT WALKERS', 'BRUTON', 'Robbie jones', 'Kzaara', 'BIRDE', 'Kraasa', 'BRUTON', 'SCATCHITE', 'Roadster', 'AKIMBO', 'PUMA', 'Dizzler', 'Airland', 'corsac', 'ONECENTRE', 'ZF Klub', 'PUMA', 'Robbie jones', 'Layasa', 'U.S. POLO ASSN.', 'Numenzo', 'LE GREEM', 'KNIGHTWING', 'JACK & JONES', 'Echor', 'U.S. POLO ASSN.', 'AMICO', \"LEVI'S\", 'KNIGHT WALKERS', 'Chevit', 'aadi', 'ASTEROID', 'U.S. POLO ASSN.', 'RapidBox', 'revord', 'luxury fashion', 'Echor', 'Numenzo', 'BIRDE', 'ADIDAS', 'Layasa', \"LEVI'S\", 'CAMPUS', 'WHITE WALKERS', 'BRUTON', 'WHITE WALKERS', 'PUMA', \"LEVI'S\", 'SPARX', 'Chevit', 'Airland', 'Rzisbo', \"LEVI'S\", \"LEVI'S\", 'HRX by Hrithik Roshan', 'PUMA', 'BIRDE', 'PROVOGUE', 'SPARX', 'HRX by Hrithik Roshan', 'DUNKASTON', 'JACK & JONES', 'WHITE WALKERS', 'SPARX', 'NAUTICA']\n"
     ]
    }
   ],
   "source": [
    "brand1=driver.find_elements_by_xpath(\"//div[@class='_2WkVRV']\")\n",
    "for i in brand1[19:20]:\n",
    "    b=i.text\n",
    "    brand.append(b)\n",
    "print(len(brand))\n",
    "print(brand)"
   ]
  },
  {
   "cell_type": "code",
   "execution_count": 39,
   "id": "f5b399d8",
   "metadata": {},
   "outputs": [
    {
     "name": "stdout",
     "output_type": "stream",
     "text": [
      "106\n",
      "['Stylish Comfortable Lightweight, Breathable Walking Sho...', 'Sneakers For Men', 'Sneakers For Men', 'Casual Sneakers Green Shoes For Men And Boys Sneakers F...', 'Modern Trendy Sneakers Shoes Sneakers For Men', 'Sneakers For Men', 'Lightweight Pack Of 1 Trendy Sneakers Sneakers For Men', 'Sneakers For Men', 'Casual Sneakers Canvas Shoes For Men Sneakers For Men', 'Shark-41 Sneakers For Men', 'Kwik FIT casual sneaker shoes and partywear shoes Casua...', 'Modern Trendy Sneakers Shoes Sneakers For Men', 'Sneakers For Men', 'Sneakers For Men', \"Casual , Partywear Sneakers Shoes For Men's And Boys Wh...\", 'Sneakers For Men', 'Casual Sneakers White Shoes For Men Sneakers For Men', \"Original Luxury Branded Fashionable Men's Casual Walkin...\", 'PANAL Sneakers For Men', 'casual for men Sneakers For Men', 'KING PRO Sneakers For Men', 'Sneakers For Men', 'Series 7 Sneakers For Men', 'Sneakers For Men', 'Sneakers For Men', 'Sneaker Sneakers For Men', 'Sneakers For Men', 'Sneakers For Men', 'Casuals, Canvas, Partywear Sneakers For Men', 'Lattest Sneakers Shoe Sneakers For Men', 'Sneakers Sneakers For Men', 'Sneakers For Men', 'Puma Smash Vulc Sneakers For Men', '1259 smart black lace-ups sneakers for men Sneakers For...', 'STYLISH MENS BLACK SNEAKER Sneakers For Men', 'STR2 Sneakers For Men', 'Sneakers For Men', 'x KL Seattle Sneakers For Men', 'Casual Sneakers Shoes For Men And Boys Sneakers For Men', 'Sneakers For Men', 'Sneakers For Men', '411 Casual Sneakers For Men', 'Comfortable & Ultra Light Weight Sneaker Sneakers For M...', 'JFWGEORGE KNIT LACE UP Sneakers For Men', \"Men's Sneakers Fashion Lightweight Running Shoes Tennis...\", 'Sneakers For Men', 'Sneakers For Men', \"Levi's Men's Lancer Sneakers Sneakers For Men\", 'SS1100 Sneakers For Men', 'Super Stylish & Trendy Combo Pack of 02 Pairs Sneakers ...', 'Sneakers For Men', \"Original Luxury Branded Fashionable Men's Casual Walkin...\", 'Sneakers For Men', 'Sneakers For Men', \"Men's Sneakers Fashion Lightweight Running Shoes Tennis...\", 'Stylish Comfortable Lightweight, Breathable Casual Walk...', 'STREET ICON M Sneakers For Men', 'Sneakers For Men', \"Levi's Men's Henry Sneakers Sneakers For Men\", 'Stylish & Trending Outdoor Walking Comfortable Sneakers...', 'Combo Pack Of 2 Latest Stylish Casual Shoes for Men Lac...', 'Stylish & Trending Outdoor Walking Comfortable Sneakers...', 'Blend Sneakers For Men', \"Men's Lancer Sneakers Sneakers For Men\", '516 Trendy Star Perfect Sneakers For Men', 'shoe Sneakers For Men', 'Sneakers For Men', \"Levi's Men's Courtright Sneakers Sneakers For Men\", \"Levi's Men's Lancer Sneakers Sneakers For Men\", 'Sneakers For Men', 'Blend Sneakers For Men', 'Stylish Comfortable Lightweight, Breathable Walking Sho...', 'Sneakers For Men', 'Sneakers For Men', 'Sneakers For Men', 'Sneakers For Men', 'Stylish & Trending Outdoor Walking Comfortable Sneakers...', 'Sneakers For Men', 'Sneakers For Men', '494 Perfect Sports Shoes for Running Training Hikking &...', 'STYLISH MENS BLACK TRENDY SNEAKER FOR MENS Sneakers For...', 'Comfortable & Ultra Light Weight Sneaker Sneakers For M...', 'Sneakers For Men', \"Levi's Men's Henry Sneakers Sneakers For Men\", 'Sneakers For Men', 'Skypy-31 Walking Shoes,Training Shoes,Sneakers,Loafers,...', 'Sneakers For Men', 'Pacer Laser Sneakers For Men', 'CLARKIN 2.0 Sneakers For Men', 'Sneakers For Men', \"White Sneaker For Men's/Boy's Sneakers For Men\", \"Men's Henry Sneakers Sneakers For Men\", 'True Black Shoe Sneakers For Men', 'Sneakers For Men', 'Stylish Comfortable Lightweight, Breathable Walking Sho...', 'SS1100 Sneakers For Men', 'Luxury Fashionable casual sneaker shoes Sneakers For Me...', 'Sneakers For Men', 'WATERPROOF-05cFULLWHITE Sneakers For Men', 'Sneakers For Men', '5011-Latest Collection Stylish & Trendy Casual Sneakers...', 'KING PRO Sneakers For Men', 'Sneakers For Men', 'Sneakers For Men', 'Puma Smash v2 L Sneakers For Men', 'Sneakers For Men']\n"
     ]
    }
   ],
   "source": [
    "prod1=driver.find_elements_by_xpath(\"//a[@class='IRpwTa']\")\n",
    "for i in prod1:\n",
    "    p=i.text\n",
    "    production.append(p)\n",
    "print(len(production))\n",
    "print(production)"
   ]
  },
  {
   "cell_type": "code",
   "execution_count": 47,
   "id": "cae94a29",
   "metadata": {},
   "outputs": [
    {
     "data": {
      "text/plain": [
       "100"
      ]
     },
     "execution_count": 47,
     "metadata": {},
     "output_type": "execute_result"
    }
   ],
   "source": [
    "len(production)"
   ]
  },
  {
   "cell_type": "code",
   "execution_count": 50,
   "id": "cb26039b",
   "metadata": {},
   "outputs": [
    {
     "name": "stdout",
     "output_type": "stream",
     "text": [
      "100\n",
      "['₹254', '₹449', '₹299', '₹399', '₹374', '₹399', '₹283', '₹499', '₹198', '₹474', '₹190', '₹549', '₹379', '₹399', '₹419', '₹180', '₹397', '₹269', '₹319', '₹424', '₹399', '₹284', '₹284', '₹283', '₹379', '₹474', '₹1,295', '₹399', '₹399', '₹709', '₹245', '₹1,457', '₹449', '₹519', '₹299', '₹646', '₹281', '₹379', '₹244', '₹474', '₹479', '₹277', '₹360', '₹989', '₹549', '₹2,089', '₹470', '₹210', '₹499', '₹300', '₹349', '₹2,269', '₹399', '₹399', '₹1,214', '₹450', '₹424', '₹664', '₹1,079', '₹539', '₹1,295', '₹549', '₹1,599', '₹664', '₹649', '₹319', '₹474', '₹1,295', '₹665', '₹145', '₹404', '₹485', '₹569', '₹299', '₹1,819', '₹399', '₹1,399', '₹1,564', '₹599', '₹499', '₹599', '₹1,511', '₹1,599', '₹749', '₹269', '₹207', '₹490', '₹1,999', '₹1,599', '₹999', '₹1,511', '₹356', '₹299', '₹775', '₹1,079', '₹363', '₹2,099', '₹599', '₹658', '₹1,479']\n"
     ]
    }
   ],
   "source": [
    "price1= driver.find_elements_by_xpath(\"//div[@class='_30jeq3']\")\n",
    "for i in price1[0:20]:\n",
    "    p=i.text\n",
    "    price.append(p)\n",
    "print(len(price))\n",
    "print(price)"
   ]
  },
  {
   "cell_type": "code",
   "execution_count": 52,
   "id": "b96cc2cb",
   "metadata": {},
   "outputs": [
    {
     "data": {
      "text/html": [
       "<div>\n",
       "<style scoped>\n",
       "    .dataframe tbody tr th:only-of-type {\n",
       "        vertical-align: middle;\n",
       "    }\n",
       "\n",
       "    .dataframe tbody tr th {\n",
       "        vertical-align: top;\n",
       "    }\n",
       "\n",
       "    .dataframe thead th {\n",
       "        text-align: right;\n",
       "    }\n",
       "</style>\n",
       "<table border=\"1\" class=\"dataframe\">\n",
       "  <thead>\n",
       "    <tr style=\"text-align: right;\">\n",
       "      <th></th>\n",
       "      <th>Brand</th>\n",
       "      <th>Production</th>\n",
       "      <th>Price</th>\n",
       "    </tr>\n",
       "  </thead>\n",
       "  <tbody>\n",
       "    <tr>\n",
       "      <th>0</th>\n",
       "      <td>Chevit</td>\n",
       "      <td>Stylish Comfortable Lightweight, Breathable Wa...</td>\n",
       "      <td>₹254</td>\n",
       "    </tr>\n",
       "    <tr>\n",
       "      <th>1</th>\n",
       "      <td>BRUTON</td>\n",
       "      <td>Sneakers For Men</td>\n",
       "      <td>₹449</td>\n",
       "    </tr>\n",
       "    <tr>\n",
       "      <th>2</th>\n",
       "      <td>BIRDE</td>\n",
       "      <td>Sneakers For Men</td>\n",
       "      <td>₹299</td>\n",
       "    </tr>\n",
       "    <tr>\n",
       "      <th>3</th>\n",
       "      <td>Layasa</td>\n",
       "      <td>Casual Sneakers Green Shoes For Men And Boys S...</td>\n",
       "      <td>₹399</td>\n",
       "    </tr>\n",
       "    <tr>\n",
       "      <th>4</th>\n",
       "      <td>Magnolia</td>\n",
       "      <td>Modern Trendy Sneakers Shoes Sneakers For Men</td>\n",
       "      <td>₹374</td>\n",
       "    </tr>\n",
       "    <tr>\n",
       "      <th>5</th>\n",
       "      <td>Robbie jones</td>\n",
       "      <td>Sneakers For Men</td>\n",
       "      <td>₹399</td>\n",
       "    </tr>\n",
       "    <tr>\n",
       "      <th>6</th>\n",
       "      <td>BRUTON</td>\n",
       "      <td>Lightweight Pack Of 1 Trendy Sneakers Sneakers...</td>\n",
       "      <td>₹283</td>\n",
       "    </tr>\n",
       "    <tr>\n",
       "      <th>7</th>\n",
       "      <td>Chevit</td>\n",
       "      <td>Sneakers For Men</td>\n",
       "      <td>₹499</td>\n",
       "    </tr>\n",
       "    <tr>\n",
       "      <th>8</th>\n",
       "      <td>URBANBOX</td>\n",
       "      <td>Casual Sneakers Canvas Shoes For Men Sneakers ...</td>\n",
       "      <td>₹198</td>\n",
       "    </tr>\n",
       "    <tr>\n",
       "      <th>9</th>\n",
       "      <td>Labbin</td>\n",
       "      <td>Shark-41 Sneakers For Men</td>\n",
       "      <td>₹474</td>\n",
       "    </tr>\n",
       "  </tbody>\n",
       "</table>\n",
       "</div>"
      ],
      "text/plain": [
       "          Brand                                         Production Price\n",
       "0        Chevit  Stylish Comfortable Lightweight, Breathable Wa...  ₹254\n",
       "1        BRUTON                                   Sneakers For Men  ₹449\n",
       "2         BIRDE                                   Sneakers For Men  ₹299\n",
       "3        Layasa  Casual Sneakers Green Shoes For Men And Boys S...  ₹399\n",
       "4      Magnolia      Modern Trendy Sneakers Shoes Sneakers For Men  ₹374\n",
       "5  Robbie jones                                   Sneakers For Men  ₹399\n",
       "6        BRUTON  Lightweight Pack Of 1 Trendy Sneakers Sneakers...  ₹283\n",
       "7        Chevit                                   Sneakers For Men  ₹499\n",
       "8      URBANBOX  Casual Sneakers Canvas Shoes For Men Sneakers ...  ₹198\n",
       "9        Labbin                          Shark-41 Sneakers For Men  ₹474"
      ]
     },
     "execution_count": 52,
     "metadata": {},
     "output_type": "execute_result"
    }
   ],
   "source": [
    "df = pd.DataFrame({\"Brand\":brand,\"Production\":production,\"Price\":price})\n",
    "df.head(10)"
   ]
  },
  {
   "cell_type": "code",
   "execution_count": null,
   "id": "05c2883b",
   "metadata": {},
   "outputs": [],
   "source": []
  }
 ],
 "metadata": {
  "kernelspec": {
   "display_name": "Python 3 (ipykernel)",
   "language": "python",
   "name": "python3"
  },
  "language_info": {
   "codemirror_mode": {
    "name": "ipython",
    "version": 3
   },
   "file_extension": ".py",
   "mimetype": "text/x-python",
   "name": "python",
   "nbconvert_exporter": "python",
   "pygments_lexer": "ipython3",
   "version": "3.9.7"
  }
 },
 "nbformat": 4,
 "nbformat_minor": 5
}
