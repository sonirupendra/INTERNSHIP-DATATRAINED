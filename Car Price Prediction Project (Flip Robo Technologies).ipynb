{
 "cells": [
  {
   "cell_type": "markdown",
   "metadata": {},
   "source": [
    "# Car Price Prediction Project (Flip Robo Technologies)"
   ]
  },
  {
   "cell_type": "markdown",
   "metadata": {},
   "source": [
    "With the covid 19 impact in the market, we have seen lot of changes in the car market. Now some cars are in demand hence making them costly and some are not in demand hence cheaper. One of our clients works with small traders, who sell used cars. With the change in market due to covid 19 impact, our client is facing problems with their previous car price valuation machine learning models. So, they are looking for new machine learning models from new data. We have to make car price valuation model. This project contains two phase-\n",
    "\n",
    "### Data Collection Phase.\n",
    "\n",
    "You have to scrape at least 5000 used cars data. You can scrape more data as well, it’s up to you. more the data better the model\n",
    "\n",
    "In this section You need to scrape the data of used cars from websites (Olx, cardekho, Cars24 etc.) You need web scraping for this. You have to fetch data for different locations. The number of\n",
    "columns for data doesn’t have limit, it’s up to you and your creativity. Generally, these columns are Brand, model, variant, manufacturing year, driven kilometers, fuel, number of owners, location and at last target variable Price of the car. This data is to give you a hint about important variables in used car model. You can make changes to it, you can add or you can remove some columns, it completely depends on the website from which you are fetching the data.\n",
    "Try to include all types of cars in your data for example- SUV, Sedans, Coupe, minivan, Hatchback.\n",
    "\n",
    "#### Note – The data which you are collecting is important to us. Kindly don’t share it on any public platforms.\n",
    "\n",
    "### Model Building Phase\n",
    "\n",
    "After collecting the data, you need to build a machine learning model. Before model building do all data pre-processing steps. Try different models with different hyper parameters and select the best model.\n",
    "Follow the complete life cycle of data science. Include all the steps like.\n",
    "\n",
    "1. Data Cleaning\n",
    "2. Exploratory Data Analysis\n",
    "3. Data Pre-processing\n",
    "4. Model Building\n",
    "5. Model Evaluation\n",
    "6. Selecting the best model"
   ]
  },
  {
   "cell_type": "code",
   "execution_count": 1,
   "metadata": {},
   "outputs": [],
   "source": [
    "# Let's import the necessary libraries\n",
    "\n",
    "import numpy as np\n",
    "import pandas as pd\n",
    "import seaborn\n",
    "import matplotlib.pyplot as plt\n",
    "import warnings\n",
    "warnings.filterwarnings(\"ignore\")"
   ]
  },
  {
   "cell_type": "code",
   "execution_count": 2,
   "metadata": {
    "scrolled": true
   },
   "outputs": [
    {
     "data": {
      "text/html": [
       "<div>\n",
       "<style scoped>\n",
       "    .dataframe tbody tr th:only-of-type {\n",
       "        vertical-align: middle;\n",
       "    }\n",
       "\n",
       "    .dataframe tbody tr th {\n",
       "        vertical-align: top;\n",
       "    }\n",
       "\n",
       "    .dataframe thead th {\n",
       "        text-align: right;\n",
       "    }\n",
       "</style>\n",
       "<table border=\"1\" class=\"dataframe\">\n",
       "  <thead>\n",
       "    <tr style=\"text-align: right;\">\n",
       "      <th></th>\n",
       "      <th>Model Year</th>\n",
       "      <th>Regestered Year</th>\n",
       "      <th>Fuel Type</th>\n",
       "      <th>Engine Type</th>\n",
       "      <th>RTO</th>\n",
       "      <th>Transmission</th>\n",
       "      <th>Insurance Type</th>\n",
       "      <th>Price</th>\n",
       "    </tr>\n",
       "  </thead>\n",
       "  <tbody>\n",
       "    <tr>\n",
       "      <th>0</th>\n",
       "      <td>2018</td>\n",
       "      <td>Dec-18</td>\n",
       "      <td>Petrol</td>\n",
       "      <td>1197 cc</td>\n",
       "      <td>DL9C</td>\n",
       "      <td>Manual</td>\n",
       "      <td>Not Available</td>\n",
       "      <td>6,11,700</td>\n",
       "    </tr>\n",
       "    <tr>\n",
       "      <th>1</th>\n",
       "      <td>2014</td>\n",
       "      <td>Apr-15</td>\n",
       "      <td>Diesel</td>\n",
       "      <td>1248 cc</td>\n",
       "      <td>DL8C</td>\n",
       "      <td>Manual</td>\n",
       "      <td>Not Available</td>\n",
       "      <td>5,43,000</td>\n",
       "    </tr>\n",
       "    <tr>\n",
       "      <th>2</th>\n",
       "      <td>2015</td>\n",
       "      <td>May-15</td>\n",
       "      <td>Diesel</td>\n",
       "      <td>1498 cc</td>\n",
       "      <td>HR51</td>\n",
       "      <td>Manual</td>\n",
       "      <td>Third Party insurance</td>\n",
       "      <td>5,56,000</td>\n",
       "    </tr>\n",
       "    <tr>\n",
       "      <th>3</th>\n",
       "      <td>2018</td>\n",
       "      <td>Nov-18</td>\n",
       "      <td>Petrol</td>\n",
       "      <td>1197 cc</td>\n",
       "      <td>HR26</td>\n",
       "      <td>Manual</td>\n",
       "      <td>Third Party insurance</td>\n",
       "      <td>5,02,500</td>\n",
       "    </tr>\n",
       "    <tr>\n",
       "      <th>4</th>\n",
       "      <td>2012</td>\n",
       "      <td>Feb-12</td>\n",
       "      <td>Diesel</td>\n",
       "      <td>1396 cc</td>\n",
       "      <td>DL2C</td>\n",
       "      <td>Manual</td>\n",
       "      <td>Third Party insurance</td>\n",
       "      <td>2,95,000</td>\n",
       "    </tr>\n",
       "    <tr>\n",
       "      <th>...</th>\n",
       "      <td>...</td>\n",
       "      <td>...</td>\n",
       "      <td>...</td>\n",
       "      <td>...</td>\n",
       "      <td>...</td>\n",
       "      <td>...</td>\n",
       "      <td>...</td>\n",
       "      <td>...</td>\n",
       "    </tr>\n",
       "    <tr>\n",
       "      <th>4995</th>\n",
       "      <td>2018</td>\n",
       "      <td>Apr-19</td>\n",
       "      <td>Diesel</td>\n",
       "      <td>1248 cc</td>\n",
       "      <td>UP14</td>\n",
       "      <td>Automatic</td>\n",
       "      <td>Third Party insurance</td>\n",
       "      <td>7,11,500</td>\n",
       "    </tr>\n",
       "    <tr>\n",
       "      <th>4996</th>\n",
       "      <td>2018</td>\n",
       "      <td>Jul-18</td>\n",
       "      <td>Diesel</td>\n",
       "      <td>1248 cc</td>\n",
       "      <td>6 2022</td>\n",
       "      <td>HR51</td>\n",
       "      <td>Manual</td>\n",
       "      <td>6,80,500</td>\n",
       "    </tr>\n",
       "    <tr>\n",
       "      <th>4997</th>\n",
       "      <td>2013</td>\n",
       "      <td>Aug-13</td>\n",
       "      <td>Diesel</td>\n",
       "      <td>1498 cc</td>\n",
       "      <td>DL10</td>\n",
       "      <td>Manual</td>\n",
       "      <td>Not Available</td>\n",
       "      <td>4,05,000</td>\n",
       "    </tr>\n",
       "    <tr>\n",
       "      <th>4998</th>\n",
       "      <td>2017</td>\n",
       "      <td>Apr-17</td>\n",
       "      <td>Diesel</td>\n",
       "      <td>1498 cc</td>\n",
       "      <td>4 2022</td>\n",
       "      <td>DL10</td>\n",
       "      <td>Manual</td>\n",
       "      <td>6,84,500</td>\n",
       "    </tr>\n",
       "    <tr>\n",
       "      <th>4999</th>\n",
       "      <td>2015</td>\n",
       "      <td>Jun-15</td>\n",
       "      <td>Diesel</td>\n",
       "      <td>1364 cc</td>\n",
       "      <td>DL9C</td>\n",
       "      <td>Manual</td>\n",
       "      <td>Third Party insurance</td>\n",
       "      <td>3,40,000</td>\n",
       "    </tr>\n",
       "  </tbody>\n",
       "</table>\n",
       "<p>5000 rows × 8 columns</p>\n",
       "</div>"
      ],
      "text/plain": [
       "      Model Year Regestered Year Fuel Type Engine Type     RTO Transmission  \\\n",
       "0           2018          Dec-18    Petrol     1197 cc    DL9C       Manual   \n",
       "1           2014          Apr-15    Diesel     1248 cc    DL8C       Manual   \n",
       "2           2015          May-15    Diesel     1498 cc    HR51       Manual   \n",
       "3           2018          Nov-18    Petrol     1197 cc    HR26       Manual   \n",
       "4           2012          Feb-12    Diesel     1396 cc    DL2C       Manual   \n",
       "...          ...             ...       ...         ...     ...          ...   \n",
       "4995        2018          Apr-19    Diesel     1248 cc    UP14    Automatic   \n",
       "4996        2018          Jul-18    Diesel     1248 cc  6 2022         HR51   \n",
       "4997        2013          Aug-13    Diesel     1498 cc    DL10       Manual   \n",
       "4998        2017          Apr-17    Diesel     1498 cc  4 2022         DL10   \n",
       "4999        2015          Jun-15    Diesel     1364 cc    DL9C       Manual   \n",
       "\n",
       "             Insurance Type     Price  \n",
       "0             Not Available  6,11,700  \n",
       "1             Not Available  5,43,000  \n",
       "2     Third Party insurance  5,56,000  \n",
       "3     Third Party insurance  5,02,500  \n",
       "4     Third Party insurance  2,95,000  \n",
       "...                     ...       ...  \n",
       "4995  Third Party insurance  7,11,500  \n",
       "4996                 Manual  6,80,500  \n",
       "4997          Not Available  4,05,000  \n",
       "4998                 Manual  6,84,500  \n",
       "4999  Third Party insurance  3,40,000  \n",
       "\n",
       "[5000 rows x 8 columns]"
      ]
     },
     "execution_count": 2,
     "metadata": {},
     "output_type": "execute_result"
    }
   ],
   "source": [
    "# Let's import the dataset\n",
    "\n",
    "data = pd.read_csv(\"Used_Car_Data.csv\")\n",
    "data"
   ]
  },
  {
   "cell_type": "code",
   "execution_count": 3,
   "metadata": {},
   "outputs": [
    {
     "data": {
      "text/plain": [
       "(5000, 8)"
      ]
     },
     "execution_count": 3,
     "metadata": {},
     "output_type": "execute_result"
    }
   ],
   "source": [
    "# Shape of the dataset\n",
    "\n",
    "data.shape"
   ]
  },
  {
   "cell_type": "code",
   "execution_count": 4,
   "metadata": {},
   "outputs": [
    {
     "name": "stdout",
     "output_type": "stream",
     "text": [
      "<class 'pandas.core.frame.DataFrame'>\n",
      "RangeIndex: 5000 entries, 0 to 4999\n",
      "Data columns (total 8 columns):\n",
      " #   Column           Non-Null Count  Dtype \n",
      "---  ------           --------------  ----- \n",
      " 0   Model Year       5000 non-null   int64 \n",
      " 1   Regestered Year  5000 non-null   object\n",
      " 2   Fuel Type        5000 non-null   object\n",
      " 3   Engine Type      5000 non-null   object\n",
      " 4   RTO              5000 non-null   object\n",
      " 5   Transmission     5000 non-null   object\n",
      " 6   Insurance Type   5000 non-null   object\n",
      " 7   Price            5000 non-null   object\n",
      "dtypes: int64(1), object(7)\n",
      "memory usage: 312.6+ KB\n"
     ]
    }
   ],
   "source": [
    "# Quick Information about dataste\n",
    "\n",
    "data.info()"
   ]
  },
  {
   "cell_type": "markdown",
   "metadata": {},
   "source": [
    "Our Targer Column is Price but this column is in object form. So, let's convert it into numerical form."
   ]
  },
  {
   "cell_type": "code",
   "execution_count": 5,
   "metadata": {},
   "outputs": [
    {
     "name": "stdout",
     "output_type": "stream",
     "text": [
      "<class 'pandas.core.frame.DataFrame'>\n",
      "RangeIndex: 5000 entries, 0 to 4999\n",
      "Data columns (total 8 columns):\n",
      " #   Column           Non-Null Count  Dtype \n",
      "---  ------           --------------  ----- \n",
      " 0   Model Year       5000 non-null   int64 \n",
      " 1   Regestered Year  5000 non-null   object\n",
      " 2   Fuel Type        5000 non-null   object\n",
      " 3   Engine Type      5000 non-null   object\n",
      " 4   RTO              5000 non-null   object\n",
      " 5   Transmission     5000 non-null   object\n",
      " 6   Insurance Type   5000 non-null   object\n",
      " 7   Price            5000 non-null   int64 \n",
      "dtypes: int64(2), object(6)\n",
      "memory usage: 312.6+ KB\n"
     ]
    }
   ],
   "source": [
    "# Let's convert the target column object to numeric\n",
    "\n",
    "data[\"Price\"] = pd.to_numeric(data[\"Price\"].str.replace(\",\",\"\"))\n",
    "data.info()"
   ]
  },
  {
   "cell_type": "code",
   "execution_count": 6,
   "metadata": {},
   "outputs": [],
   "source": [
    "# Let's check the value counts\n",
    "\n",
    "#for column in data:\n",
    "#    print(data[column].value_counts())\n",
    "#    print()"
   ]
  },
  {
   "cell_type": "code",
   "execution_count": 7,
   "metadata": {},
   "outputs": [
    {
     "data": {
      "text/plain": [
       "Model Year         0\n",
       "Regestered Year    0\n",
       "Fuel Type          0\n",
       "Engine Type        0\n",
       "RTO                0\n",
       "Transmission       0\n",
       "Insurance Type     0\n",
       "Price              0\n",
       "dtype: int64"
      ]
     },
     "execution_count": 7,
     "metadata": {},
     "output_type": "execute_result"
    }
   ],
   "source": [
    "# Let's check the null values\n",
    "\n",
    "data.isnull().sum()"
   ]
  },
  {
   "cell_type": "markdown",
   "metadata": {},
   "source": [
    "There is not a single column has null values."
   ]
  },
  {
   "cell_type": "code",
   "execution_count": 8,
   "metadata": {},
   "outputs": [
    {
     "name": "stdout",
     "output_type": "stream",
     "text": [
      "Model Year = 0\n",
      "Regestered Year = 0\n",
      "Fuel Type = 0\n",
      "Engine Type = 0\n",
      "RTO = 0\n",
      "Transmission = 0\n",
      "Insurance Type = 0\n",
      "Price = 0\n"
     ]
    }
   ],
   "source": [
    "# Let's check the 0 value counts of each column\n",
    "\n",
    "for column in data:\n",
    "    print(column+ \" = \"+str(data[data[column]==0].shape[0]))"
   ]
  },
  {
   "cell_type": "code",
   "execution_count": 9,
   "metadata": {
    "scrolled": true
   },
   "outputs": [
    {
     "name": "stdout",
     "output_type": "stream",
     "text": [
      "Shape of the dataset before converting :  (5000, 8)\n",
      "Shape of the dataset after converting  :  (5000, 57)\n"
     ]
    }
   ],
   "source": [
    "# Let's convert the categorial column to numerical form\n",
    "\n",
    "print(\"Shape of the dataset before converting : \",data.shape)\n",
    "data = pd.get_dummies(data, drop_first=True)\n",
    "print(\"Shape of the dataset after converting  : \",data.shape)"
   ]
  },
  {
   "cell_type": "code",
   "execution_count": 10,
   "metadata": {},
   "outputs": [],
   "source": [
    "# Let's separate the input and output variables\n",
    "\n",
    "x = data.drop(columns = [\"Price\"], axis=1)\n",
    "y = data[\"Price\"]"
   ]
  },
  {
   "cell_type": "code",
   "execution_count": 11,
   "metadata": {},
   "outputs": [],
   "source": [
    "# Let's import the necessary libraries for model buildings\n",
    "\n",
    "from sklearn.model_selection import train_test_split, cross_val_score\n",
    "from sklearn.metrics import r2_score\n",
    "from time import time"
   ]
  },
  {
   "cell_type": "code",
   "execution_count": 12,
   "metadata": {},
   "outputs": [],
   "source": [
    "# Let's find the best R2 Score according to best random state\n",
    "\n",
    "def bestmodel(model):\n",
    "    max_score = 0\n",
    "    max_state = 0\n",
    "    start = time()\n",
    "    for i in range(51,100):\n",
    "        x_train, x_test, y_train, y_test = train_test_split(x,y,test_size=0.25, random_state=i)\n",
    "        model.fit(x_train, y_train)\n",
    "        y_pre = model.predict(x_test)\n",
    "        score = r2_score(y_test, y_pre)\n",
    "        if score > max_score:\n",
    "            max_score = score\n",
    "            max_state = i\n",
    "    print(\"Best Random State is      : \",max_state)\n",
    "    print(\"Best R2_Score is          : \",max_score)\n",
    "    print(\"Cross Validation Score is : \",cross_val_score(model, x, y, cv=5, scoring=\"r2\").mean())\n",
    "    end = time()\n",
    "    print(\"\\nTime taken by model for prediction is {:.4f} seconds: \".format(end-start))"
   ]
  },
  {
   "cell_type": "code",
   "execution_count": 13,
   "metadata": {},
   "outputs": [
    {
     "name": "stdout",
     "output_type": "stream",
     "text": [
      "Best Random State is      :  51\n",
      "Best R2_Score is          :  1.0\n",
      "Cross Validation Score is :  1.0\n",
      "\n",
      "Time taken by model for prediction is 1.2788 seconds: \n"
     ]
    }
   ],
   "source": [
    "# Linear Regression\n",
    "\n",
    "from sklearn.linear_model import LinearRegression\n",
    "\n",
    "LR = LinearRegression()\n",
    "bestmodel(LR)"
   ]
  },
  {
   "cell_type": "code",
   "execution_count": 14,
   "metadata": {},
   "outputs": [
    {
     "name": "stdout",
     "output_type": "stream",
     "text": [
      "Best Random State is      :  51\n",
      "Best R2_Score is          :  1.0\n",
      "Cross Validation Score is :  1.0\n",
      "\n",
      "Time taken by model for prediction is 1.1726 seconds: \n"
     ]
    }
   ],
   "source": [
    "# Decision Tree Regressor\n",
    "\n",
    "from sklearn.tree import DecisionTreeRegressor\n",
    "\n",
    "DTR = DecisionTreeRegressor()\n",
    "bestmodel(DTR)"
   ]
  },
  {
   "cell_type": "code",
   "execution_count": 15,
   "metadata": {},
   "outputs": [
    {
     "name": "stdout",
     "output_type": "stream",
     "text": [
      "Best Random State is      :  51\n",
      "Best R2_Score is          :  1.0\n",
      "Cross Validation Score is :  1.0\n",
      "\n",
      "Time taken by model for prediction is 10.9720 seconds: \n"
     ]
    }
   ],
   "source": [
    "# K-Neighbors Regressor\n",
    "\n",
    "from sklearn.neighbors import KNeighborsRegressor\n",
    "\n",
    "KNR = KNeighborsRegressor()\n",
    "bestmodel(KNR)"
   ]
  },
  {
   "cell_type": "code",
   "execution_count": 16,
   "metadata": {},
   "outputs": [
    {
     "name": "stdout",
     "output_type": "stream",
     "text": [
      "Best Random State is      :  52\n",
      "Best R2_Score is          :  0.9993373734399859\n",
      "Cross Validation Score is :  0.9992342347544876\n",
      "\n",
      "Time taken by model for prediction is 30.4654 seconds: \n"
     ]
    }
   ],
   "source": [
    "# Gradient Boosting Regressor\n",
    "\n",
    "from sklearn.ensemble import GradientBoostingRegressor\n",
    "\n",
    "GBR = GradientBoostingRegressor()\n",
    "bestmodel(GBR)"
   ]
  },
  {
   "cell_type": "code",
   "execution_count": 17,
   "metadata": {},
   "outputs": [
    {
     "name": "stdout",
     "output_type": "stream",
     "text": [
      "Best Random State is      :  51\n",
      "Best R2_Score is          :  1.0\n",
      "Cross Validation Score is :  1.0\n",
      "\n",
      "Time taken by model for prediction is 44.3730 seconds: \n"
     ]
    }
   ],
   "source": [
    "# Random Forest Regressor\n",
    "\n",
    "from sklearn.ensemble import RandomForestRegressor\n",
    "\n",
    "RFR = RandomForestRegressor()\n",
    "bestmodel(RFR)"
   ]
  },
  {
   "cell_type": "markdown",
   "metadata": {},
   "source": [
    "As we can see that all models are giving the best result. So, let's choose the Random Forest Regressor Model as our final Model."
   ]
  },
  {
   "cell_type": "code",
   "execution_count": 18,
   "metadata": {},
   "outputs": [
    {
     "data": {
      "text/plain": [
       "['Final Model.pkl']"
      ]
     },
     "execution_count": 18,
     "metadata": {},
     "output_type": "execute_result"
    }
   ],
   "source": [
    "# Saving the final model\n",
    "\n",
    "import joblib\n",
    "\n",
    "joblib.dump(RFR, \"Final Model.pkl\")"
   ]
  },
  {
   "cell_type": "code",
   "execution_count": null,
   "metadata": {},
   "outputs": [],
   "source": []
  }
 ],
 "metadata": {
  "kernelspec": {
   "display_name": "Python 3 (ipykernel)",
   "language": "python",
   "name": "python3"
  },
  "language_info": {
   "codemirror_mode": {
    "name": "ipython",
    "version": 3
   },
   "file_extension": ".py",
   "mimetype": "text/x-python",
   "name": "python",
   "nbconvert_exporter": "python",
   "pygments_lexer": "ipython3",
   "version": "3.9.12"
  }
 },
 "nbformat": 4,
 "nbformat_minor": 4
}
